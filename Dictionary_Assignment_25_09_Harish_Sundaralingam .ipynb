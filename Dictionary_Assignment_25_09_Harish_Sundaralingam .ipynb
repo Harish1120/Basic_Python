{
 "cells": [
  {
   "cell_type": "markdown",
   "metadata": {
    "id": "2k4ZB9yltJCa"
   },
   "source": [
    "### Question 01 \n",
    "Initialize a dictionary \"emp_info\" with below details<br>\n",
    "In - emp_info['Tom']<br>\n",
    "Out - {'email':'tom_latham019@gmail.com', 'Phone': +1987654321, 'City': 'California'}<br>\n",
    "\n",
    "In - emp_info['Kathy']<br>\n",
    "Out - {'email':'kathy_abram897@gmail.com', 'Phone': +1887654321, 'City': 'New York'}"
   ]
  },
  {
   "cell_type": "code",
   "execution_count": 2,
   "metadata": {},
   "outputs": [
    {
     "name": "stdout",
     "output_type": "stream",
     "text": [
      "{'email': 'tom_latham019@gmail.com', 'Phone': 1987654321, 'City': 'California'}\n",
      "{'email': 'kathy_abram897@gmail.com', 'Phone': 1887654321, 'City': 'New York'}\n"
     ]
    }
   ],
   "source": [
    "emp_info = { 'Tom':{'email':'tom_latham019@gmail.com', 'Phone': +1987654321, 'City': 'California'},\n",
    "            'Kathy':{'email':'kathy_abram897@gmail.com', 'Phone': +1887654321, 'City': 'New York'}\n",
    "}\n",
    "\n",
    "print(emp_info['Tom'])\n",
    "print(emp_info['Kathy'])"
   ]
  },
  {
   "cell_type": "markdown",
   "metadata": {},
   "source": [
    "### Question 02\n",
    "Create a dictionary out of below inputs"
   ]
  },
  {
   "cell_type": "code",
   "execution_count": 3,
   "metadata": {
    "id": "BAUj-S0fqFWG"
   },
   "outputs": [
    {
     "name": "stdout",
     "output_type": "stream",
     "text": [
      "{'emp1': {'e_name': 'John', 'e_id': 'SG101', 'e_sal': '$10,000'}, 'emp2': {'e_name': 'Smith', 'e_id': 'SG102', 'e_sal': '$9,000'}, 'emp3': {'e_name': 'Peter', 'e_id': 'SG103', 'e_sal': '$9,500'}}\n"
     ]
    }
   ],
   "source": [
    "lst1 = ['emp1', 'emp2', 'emp3']\n",
    "emp_key = ['e_name', 'e_id', 'e_sal']\n",
    "emp1_val = ['John', 'SG101', '$10,000']\n",
    "emp2_val = ['Smith', 'SG102', '$9,000']\n",
    "emp3_val = ['Peter', 'SG103', '$9,500']\n",
    "\n",
    "emp1_dict = dict(zip(emp_key,emp1_val)) \n",
    "emp2_dict = dict(zip(emp_key,emp2_val))\n",
    "emp3_dict = dict(zip(emp_key,emp3_val))\n",
    "\n",
    "print(dict(zip(lst1,[emp1_dict,emp2_dict,emp3_dict])))"
   ]
  },
  {
   "cell_type": "markdown",
   "metadata": {},
   "source": [
    "### Question 03\n",
    "Access the value of key 'history'"
   ]
  },
  {
   "cell_type": "code",
   "execution_count": 4,
   "metadata": {
    "id": "LxGZ3jbjrBkj"
   },
   "outputs": [
    {
     "name": "stdout",
     "output_type": "stream",
     "text": [
      "80\n"
     ]
    }
   ],
   "source": [
    "sampleDict = { \n",
    "   \"class\":{ \n",
    "      \"student\":{ \n",
    "         \"name\":\"Mike\",\n",
    "         \"marks\":{ \n",
    "            \"physics\":70,\n",
    "            \"history\":80\n",
    "         }\n",
    "      }\n",
    "   }\n",
    "}\n",
    "print(sampleDict['class']['student']['marks']['history'])\n",
    "\n"
   ]
  },
  {
   "cell_type": "markdown",
   "metadata": {
    "id": "Vm8UZbyNrKID"
   },
   "source": [
    "### Question 04\n",
    "Initialize dictionary with default values. Inputs are:-<br>\n",
    "employees = ['Kelly', 'Emma', 'John']<br>\n",
    "defaults = {\"designation\": 'Application Developer', \"salary\": 8000}<br>\n",
    "\n",
    "Expected output:- {'Kelly': {'designation': 'Application Developer', 'salary': 8000}, \n",
    "                   'Emma': {'designation': 'Application Developer', 'salary': 8000}, \n",
    "                   'John': {'designation': 'Application Developer', 'salary': 8000}}\n",
    "\n",
    "\n"
   ]
  },
  {
   "cell_type": "code",
   "execution_count": 5,
   "metadata": {},
   "outputs": [
    {
     "name": "stdout",
     "output_type": "stream",
     "text": [
      "{'Kelly': {'designation': 'Application Developer', 'salary': 8000}, 'Emma': {'designation': 'Application Developer', 'salary': 8000}, 'John': {'designation': 'Application Developer', 'salary': 8000}}\n"
     ]
    }
   ],
   "source": [
    "employees = ['Kelly', 'Emma', 'John']\n",
    "defaults = {\"designation\": 'Application Developer', \"salary\": 8000}\n",
    "emp_dict = {}\n",
    "for i in employees:\n",
    "    a = (dict(zip([i],[defaults])))\n",
    "    emp_dict.update(a)\n",
    "print(emp_dict)\n"
   ]
  },
  {
   "cell_type": "markdown",
   "metadata": {
    "id": "nmFdbaHBrThC"
   },
   "source": [
    "### Question 05\n",
    "In gene expression, mRNA is transcribed from a DNA template. <br>\n",
    "The 4 nucleotide bases of A, T, C, G corresponds to the U, A, G, C bases of the mRNA. <br>\n",
    "Write a function that returns the mRNA transcript given the sequence of a DNA strand.<br>\n",
    "\n",
    "Use a dictionary to provide the mapping of DNA to RNA bases."
   ]
  },
  {
   "cell_type": "code",
   "execution_count": 22,
   "metadata": {},
   "outputs": [
    {
     "name": "stdout",
     "output_type": "stream",
     "text": [
      "UACGGCUA\n"
     ]
    }
   ],
   "source": [
    "def dna_mrna_trans(my_str):\n",
    "    dna_mrna = {'A':'U','T':'A','C':'G','G':'C'}\n",
    "    mrna_sq = ''\n",
    "    for i in my_str:\n",
    "        mrna_sq += dna_mrna[i]\n",
    "    return mrna_sq\n",
    "print(dna_mrna_trans(\"ATGCCGAT\"))"
   ]
  },
  {
   "cell_type": "markdown",
   "metadata": {
    "id": "rop1A1pQw6Uk"
   },
   "source": [
    "### Question 06\n",
    "Write a function which takes a word as input and returns a dictionary with letters as key and no of time letters are repeated as value.<br>\n",
    "In - count_letter('google.com')<br>\n",
    "Out - {'g': 2, 'o': 3, 'l': 1, 'e': 1, '.': 1, 'c': 1, 'm': 1}"
   ]
  },
  {
   "cell_type": "code",
   "execution_count": 23,
   "metadata": {},
   "outputs": [
    {
     "name": "stdout",
     "output_type": "stream",
     "text": [
      "Enter a word to count:google.com\n",
      "{'g': 2, 'o': 3, 'l': 1, 'e': 1, '.': 1, 'c': 1, 'm': 1}\n"
     ]
    }
   ],
   "source": [
    "def count_letter(my_str):\n",
    "    my_dict = {i:my_str.count(i) for i in my_str}\n",
    "    return my_dict\n",
    "a = input('Enter a word to count:')\n",
    "print(count_letter(a))"
   ]
  },
  {
   "cell_type": "markdown",
   "metadata": {
    "id": "vAwGIoxdw856"
   },
   "source": [
    "### Question 07 \n",
    "A DNA strand consisting of the 4 nucleotide bases is usually represented with a string of letters: A,T, C, G. <br>\n",
    "Write a function that computes the base composition of a given DNA sequence.<br>\n",
    "<br>\n",
    "In - baseComposition(\"CTATCGGCACCCTTTCAGCA\")<br>\n",
    "Out - {'A': 4, 'C': 8, 'T': 5,  'G': 3 }<br>\n",
    "<br>\n",
    "In - baseComposition(\"AGT\")<br>\n",
    "Out - {'A': 1, 'C': 0, 'T': 1,  'G': 1 }"
   ]
  },
  {
   "cell_type": "code",
   "execution_count": 3,
   "metadata": {},
   "outputs": [
    {
     "name": "stdout",
     "output_type": "stream",
     "text": [
      "{'A': 4, 'C': 8, 'T': 5, 'G': 3}\n",
      "{'A': 1, 'C': 0, 'T': 1, 'G': 1}\n"
     ]
    }
   ],
   "source": [
    "def baseComposition(dna_comp):\n",
    "    dna_dict1 = {'A':0,'C':0,'T':0,'G':0}\n",
    "    for i in dna_dict1.keys():\n",
    "        dna_dict1[i] = dna_comp.count(i)\n",
    "    return(dna_dict1)\n",
    "\n",
    "print(baseComposition(\"CTATCGGCACCCTTTCAGCA\"))\n",
    "print(baseComposition(\"AGT\"))"
   ]
  },
  {
   "cell_type": "markdown",
   "metadata": {
    "id": "iVNnSsvaxMDo"
   },
   "source": [
    "### Question 08 \n",
    "[MCQ] Suppose \"d\" is an empty dictionary, which statement does not assign \"d\" with {\"Name\":\"Tom\"}? \n",
    "1. d = {\"Name\": \"Tom\" }\n",
    "2. d[\"Name\"] = \"Tom\"\n",
    "3. d.update({\"Name\": \"Tom\" })\n",
    "4. d.setdefault(\"Name\", \"Tom\")\n",
    "5. None of the above.\n",
    "\n",
    "Ans - 5. None of the above\n"
   ]
  },
  {
   "cell_type": "markdown",
   "metadata": {
    "id": "tOgsXi2axnhF"
   },
   "source": [
    "### Question 09\n",
    "[MCQ] d = {\"a\":1, \"b\":2}. Which of the statements returns [1,2]? \n",
    "1. d.keys()\n",
    "2. d.values()\n",
    "3. d.items()\n",
    "4. d.popitem()\n",
    "5. None of the above.\n",
    "\n",
    "Ans - 2. d.values()"
   ]
  },
  {
   "cell_type": "markdown",
   "metadata": {
    "id": "BeNNopkDzK0k"
   },
   "source": [
    "### Question 10 \n",
    "[MCQ] Which of the following declarations is not valid for 'dict' type?\n",
    "1. d = {\"Name\": \"Tom\" }\n",
    "2. d = { (1,3,4): 4.5 }\n",
    "3. d = { [\"First\", \"Last\"]: (1,3) }\n",
    "4. d = { 1: 0.4 }\n",
    "5. None of the above\n",
    "\n",
    "Ans - 3. d = { ['First', 'Last'] : (1,3) }"
   ]
  },
  {
   "cell_type": "markdown",
   "metadata": {
    "id": "7kPbKcfMzTHP"
   },
   "source": [
    "### Question 11 \n",
    "Write a function reverseLookup(dictionary, value) that takes in a dictionary \n",
    "and a value as arguments and returns a sorted list of all keys that contains the value.<br>\n",
    "The function will return an empty list if no match is found.<br>\n",
    "\n",
    "In - reverseLookup({'a':1, 'b':2, 'c':2}, 1)<br>\n",
    "Out - ['a']<br>\n",
    "In - reverseLookup({'a':1, 'b':2, 'c':2}, 2)<br>\n",
    "Out - ['b', 'c']<br>\n",
    "In - reverseLookup({'a':1, 'b':2, 'c':2}, 3)<br>\n",
    "Out - []"
   ]
  },
  {
   "cell_type": "code",
   "execution_count": 2,
   "metadata": {},
   "outputs": [
    {
     "name": "stdout",
     "output_type": "stream",
     "text": [
      "['a']\n",
      "['b', 'c']\n",
      "[]\n"
     ]
    }
   ],
   "source": [
    "def reverseLookup (my_dict,val):\n",
    "    lst = []\n",
    "    for i in my_dict:\n",
    "        if my_dict[i] == val:\n",
    "            lst += [i]\n",
    "    lst.sort()\n",
    "    return ((lst)) \n",
    "print(reverseLookup({'a':1, 'b':2, 'c':2}, 1))\n",
    "print(reverseLookup({'a':1, 'b':2, 'c':2}, 2))\n",
    "print(reverseLookup({'a':1, 'b':2, 'c':2}, 3))"
   ]
  },
  {
   "cell_type": "markdown",
   "metadata": {
    "id": "s87Rvg2HDFYp"
   },
   "source": [
    "### Question 12 \n",
    "Write a function invertDictionary(d) that takes in a dictionary as argument and return a dictionary that inverts the keys and the values of the original dictionary.<br>\n",
    "In - invertDictionary({'a':1, 'b':2, 'c':3, 'd':2})<br>\n",
    "Out - {1: ['a'], 2: ['b', 'd'], 3: ['c']}<br>\n",
    "In - invertDictionary({'a':3, 'b':3, 'c':3})<br>\n",
    "Out - {3: ['a', 'c', 'b']}<br>\n",
    "In - invertDictionary({'a':2, 'b':1, 'c':2, 'd':1})<br>\n",
    "Out - {1: ['b', 'd'], 2: ['a', 'c']}\n",
    "\n",
    "\n"
   ]
  },
  {
   "cell_type": "code",
   "execution_count": 4,
   "metadata": {},
   "outputs": [
    {
     "name": "stdout",
     "output_type": "stream",
     "text": [
      "{1: ['a'], 2: ['b', 'd'], 3: ['c']}\n",
      "{3: ['a', 'b', 'c']}\n",
      "{1: ['b', 'd'], 2: ['a', 'c']}\n"
     ]
    }
   ],
   "source": [
    "def invertDictionary(d):\n",
    "    d_values = list(d.values())\n",
    "    my_dict = {}\n",
    "    for i in d_values:\n",
    "        val = reverseLookup(d,i)\n",
    "        my_dict.update({i:val})\n",
    "        val = []\n",
    "    d_items = list(my_dict.items())\n",
    "    d_items.sort()   \n",
    "    return (dict(d_items))\n",
    "        \n",
    "print(invertDictionary({'a':1, 'b':2, 'c':3, 'd':2}))  \n",
    "print (invertDictionary({'a':3, 'b':3, 'c':3}))\n",
    "print(invertDictionary({'a':2, 'b':1, 'c':2, 'd':1}))\n"
   ]
  },
  {
   "cell_type": "markdown",
   "metadata": {
    "id": "DgYyaZU6Oz7E"
   },
   "source": [
    "### Question 13\n",
    "Write a function that converts a sparse vector into a dictionary as described above.<br>\n",
    "In - convertVector([1, 0, 0, 2, 0, 0, 0, 3,i 0, 0, 0, 0, 4])<br>\n",
    "Out - {0: 1, 3: 2, 7: 3, 12: 4}<br>\n",
    "In - convertVector([1, 0, 1 , 0, 2, 0, 1, 0, 0, 1, 0])<br>\n",
    "Out - {0: 1, 2: 1, 4: 2, 6: 1, 9: 1}<br>\n",
    "In - convertVector([0, 0, 0, 0, 0])<br>\n",
    "Out - {}\n",
    "\n"
   ]
  },
  {
   "cell_type": "code",
   "execution_count": 89,
   "metadata": {},
   "outputs": [
    {
     "name": "stdout",
     "output_type": "stream",
     "text": [
      "{0: 1, 3: 2, 7: 3, 12: 4}\n",
      "{0: 1, 2: 1, 4: 2, 6: 1, 9: 1}\n",
      "{}\n"
     ]
    }
   ],
   "source": [
    "def convertVector(lst):\n",
    "    lst1 = [[i,lst[i]] for i in range(len(lst)) if lst[i] != 0]\n",
    "    return (dict(lst1))\n",
    "print(convertVector([1, 0, 0, 2, 0, 0, 0, 3, 0, 0, 0, 0, 4]))\n",
    "print(convertVector([1, 0, 1 , 0, 2, 0, 1, 0, 0, 1, 0]))\n",
    "print(convertVector([0, 0, 0, 0, 0]))"
   ]
  },
  {
   "cell_type": "markdown",
   "metadata": {
    "id": "ETCmEcflTGCI"
   },
   "source": [
    "### Question 14 \n",
    "Write a function that converts a dictionary back to its sparse vector representation.<br>\n",
    "In - convertDictionary({0: 1, 3: 2, 7: 3, 12: 4})<br>\n",
    "Out - [1, 0, 0, 2, 0, 0, 0, 3, 0, 0, 0, 0, 4]<br>\n",
    "In - convertDictionary({0: 1, 2: 1, 4: 2, 6: 1, 9: 1})<br>\n",
    "Out - [1, 0, 1, 0, 2, 0, 1, 0, 0, 1]<br>\n",
    "In - convertDictionary({})<br>\n",
    "Out - []\n",
    "\n"
   ]
  },
  {
   "cell_type": "code",
   "execution_count": 2,
   "metadata": {},
   "outputs": [
    {
     "name": "stdout",
     "output_type": "stream",
     "text": [
      "[1, 0, 0, 2, 0, 0, 0, 3, 0, 0, 0, 0, 4]\n",
      "[1, 0, 1, 0, 2, 0, 1, 0, 0, 1]\n",
      "[]\n"
     ]
    }
   ],
   "source": [
    "def convertDictionary(d):\n",
    "    n = list(d.keys())\n",
    "    lst = []\n",
    "    if len(d) == 0:\n",
    "        return lst\n",
    "    else:\n",
    "        for i in range((n[len(n)-1])+1):\n",
    "            if i not in n:\n",
    "                lst.append(0)\n",
    "            else:\n",
    "                lst.append(d[i])\n",
    "    return lst\n",
    "print(convertDictionary({0: 1, 3: 2, 7: 3, 12: 4}))\n",
    "print(convertDictionary({0: 1, 2: 1, 4: 2, 6: 1, 9: 1}))\n",
    "print(convertDictionary({}))"
   ]
  },
  {
   "cell_type": "markdown",
   "metadata": {
    "id": "tTANm2QKZXh3"
   },
   "source": [
    "### Question 15 \n",
    "Given a Python dictionary, Change Brad’s salary to 8500<br>\n",
    "sampleDict = {<br>\n",
    "     'emp1': {'name': 'Jhon', 'salary': 7500},<br>\n",
    "     'emp2': {'name': 'Emma', 'salary': 8000},<br>\n",
    "     'emp3': {'name': 'Brad', 'salary': 6500}<br>\n",
    "}<br>\n",
    "<br>\n",
    "Expected Output<br>\n",
    "sampleDict = {<br>\n",
    "     'emp1': {'name': 'Jhon', 'salary': 7500},<br>\n",
    "     'emp2': {'name': 'Emma', 'salary': 8000},<br>\n",
    "     'emp3': {'name': 'Brad', 'salary': 8500}<br>\n",
    "}<br>\n",
    "\n"
   ]
  },
  {
   "cell_type": "code",
   "execution_count": 3,
   "metadata": {},
   "outputs": [
    {
     "name": "stdout",
     "output_type": "stream",
     "text": [
      "{'emp1': {'name': 'Jhon', 'salary': 7500}, 'emp2': {'name': 'Emma', 'salary': 8000}, 'emp3': {'name': 'Brad', 'salary': 8500}}\n"
     ]
    }
   ],
   "source": [
    "sampleDict = {\n",
    "'emp1': {'name': 'Jhon', 'salary': 7500},\n",
    "'emp2': {'name': 'Emma', 'salary': 8000},\n",
    "'emp3': {'name': 'Brad', 'salary': 6500}\n",
    "}\n",
    "\n",
    "for i in sampleDict:\n",
    "    if sampleDict[i]['name'] == 'Brad':\n",
    "        sampleDict[i]['salary'] = 8500\n",
    "print(sampleDict)"
   ]
  },
  {
   "cell_type": "markdown",
   "metadata": {
    "id": "8dUHXiCVZmUx"
   },
   "source": [
    "### Question 16 \n",
    "Get the key corresponding to the minimum value from the following dictionary<br>\n",
    "sampleDict = {<br>\n",
    "  'Physics': 82,<br>\n",
    "  'Math': 65,<br>\n",
    "  'history': 75<br>\n",
    "}<br>\n",
    "<br>\n",
    "Expected Output<br>\n",
    "Math\n",
    "\n"
   ]
  },
  {
   "cell_type": "code",
   "execution_count": 5,
   "metadata": {},
   "outputs": [
    {
     "name": "stdout",
     "output_type": "stream",
     "text": [
      "Math\n"
     ]
    }
   ],
   "source": [
    "sampleDict = {\n",
    "'Physics': 82,\n",
    "'Math': 65,\n",
    "'history': 75\n",
    "}\n",
    "min_no = 100\n",
    "for i in sampleDict:\n",
    "    if min_no > sampleDict[i]:\n",
    "        min_no = sampleDict[i]\n",
    "for i in sampleDict:\n",
    "    if sampleDict[i] == min_no:\n",
    "        print(i)"
   ]
  },
  {
   "cell_type": "markdown",
   "metadata": {
    "id": "AQe5QNGdZ7aJ"
   },
   "source": [
    "### Question 17\n",
    "Rename key city to location in the following dictionary<br>\n",
    "sampleDict = {<br>\n",
    "  \"name\": \"Kelly\",<br>\n",
    "  \"age\":25,<br>\n",
    "  \"salary\": 8000,<br>\n",
    "  \"city\": \"New york\"<br>\n",
    "}<br>\n",
    "<br>\n",
    "Expected Output<br>\n",
    "{<br>\n",
    "  \"name\": \"Kelly\",<br>\n",
    "  \"age\":25,<br>\n",
    "  \"salary\": 8000,<br>\n",
    "  \"location\": \"New york\"<br>\n",
    "}"
   ]
  },
  {
   "cell_type": "code",
   "execution_count": 8,
   "metadata": {},
   "outputs": [
    {
     "name": "stdout",
     "output_type": "stream",
     "text": [
      "{'name': 'Kelly', 'age': 25, 'salary': 8000, 'location': 'New york'}\n"
     ]
    }
   ],
   "source": [
    "sampleDict = {\n",
    "\"name\": \"Kelly\",\n",
    "\"age\":25,\n",
    "\"salary\": 8000,\n",
    "\"city\": \"New york\"\n",
    "}\n",
    "\n",
    "dict_keys = list(sampleDict.keys())\n",
    "dict_values = list(sampleDict.values())\n",
    "\n",
    "dict_keys[dict_keys.index('city')] = 'location'\n",
    "print(dict(zip(dict_keys,dict_values)))"
   ]
  },
  {
   "cell_type": "markdown",
   "metadata": {
    "id": "e19_ddO9aNNw"
   },
   "source": [
    "### Question 18\n",
    "Check if a value 200 exists in a dictionary<br>\n",
    "sampleDict = {'a': 100, 'b': 200, 'c': 300}<br>\n",
    "<br>\n",
    "Expected Output: True"
   ]
  },
  {
   "cell_type": "code",
   "execution_count": 12,
   "metadata": {},
   "outputs": [
    {
     "name": "stdout",
     "output_type": "stream",
     "text": [
      "True\n"
     ]
    }
   ],
   "source": [
    "sampleDict = {'a': 100, 'b': 200, 'c': 300}\n",
    "flag = False\n",
    "for i in sampleDict:\n",
    "    if sampleDict[i] == 200:\n",
    "        flag = True \n",
    "        break\n",
    "if flag == True:\n",
    "    print('True')\n",
    "else:\n",
    "    print('False')"
   ]
  },
  {
   "cell_type": "markdown",
   "metadata": {
    "id": "yphwjc1gabMa"
   },
   "source": [
    "### Question 19\n",
    "Delete set of keys from Python Dictionary<br>\n",
    "sampleDict = {<br>\n",
    "  \"name\": \"Kelly\",<br>\n",
    "  \"age\":25,<br>\n",
    "  \"salary\": 8000,<br>\n",
    "  \"city\": \"New york\"}<br>\n",
    "<br>\n",
    "keysToRemove = [\"name\", \"salary\"]<br>\n",
    "<br>\n",
    "Expected Output:<br>\n",
    "{'city': 'New york', 'age': 25}"
   ]
  },
  {
   "cell_type": "code",
   "execution_count": 18,
   "metadata": {},
   "outputs": [
    {
     "name": "stdout",
     "output_type": "stream",
     "text": [
      "{'age': 25, 'city': 'New york'}\n"
     ]
    }
   ],
   "source": [
    "sampleDict = {\n",
    "\"name\": \"Kelly\",\n",
    "\"age\":25,\n",
    "\"salary\": 8000,\n",
    "\"city\": \"New york\"}\n",
    "\n",
    "keysToRemove = [\"name\", \"salary\"]\n",
    "flag = 0 \n",
    "copy_dict = sampleDict.copy()\n",
    "key = list(copy_dict.keys())\n",
    "\n",
    "for i in key:\n",
    "    if i in keysToRemove:\n",
    "        copy_dict.pop(i)\n",
    "print(copy_dict)"
   ]
  }
 ],
 "metadata": {
  "colab": {
   "name": "Dictionary_Assignment.ipynb",
   "provenance": []
  },
  "kernelspec": {
   "display_name": "Python 3",
   "language": "python",
   "name": "python3"
  },
  "language_info": {
   "codemirror_mode": {
    "name": "ipython",
    "version": 3
   },
   "file_extension": ".py",
   "mimetype": "text/x-python",
   "name": "python",
   "nbconvert_exporter": "python",
   "pygments_lexer": "ipython3",
   "version": "3.8.11"
  }
 },
 "nbformat": 4,
 "nbformat_minor": 1
}
