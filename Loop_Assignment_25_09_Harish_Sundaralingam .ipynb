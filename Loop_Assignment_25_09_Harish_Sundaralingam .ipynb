{
 "cells": [
  {
   "cell_type": "markdown",
   "id": "2aee2632",
   "metadata": {},
   "source": [
    "# Loop Assignment"
   ]
  },
  {
   "cell_type": "markdown",
   "id": "c8e274b5",
   "metadata": {},
   "source": [
    "### Question 1\n",
    "W. A P. which takes one number from 0 to 9 from the user and prints\n",
    "it in the word. And if the word is not from 0 to 9 then\n",
    "it should print that number is outside of the range and program should\n",
    "exit"
   ]
  },
  {
   "cell_type": "code",
   "execution_count": 17,
   "id": "750a7a89",
   "metadata": {},
   "outputs": [
    {
     "name": "stdout",
     "output_type": "stream",
     "text": [
      "Enter a number:4\n",
      "Four\n"
     ]
    }
   ],
   "source": [
    "num = int(input('Enter a number:'))\n",
    "if num == 0:\n",
    "    print('Zero')\n",
    "elif num == 1:\n",
    "    print('One')\n",
    "elif num == 2:\n",
    "    print('Two')\n",
    "elif num == 3:\n",
    "    print('Three')\n",
    "elif num == 4:\n",
    "    print('Four')\n",
    "elif num == 5:\n",
    "    print('Five')\n",
    "elif num == 6:\n",
    "    print('Six')\n",
    "elif num == 7:\n",
    "    print('Seven')\n",
    "elif num == 8:\n",
    "    print('Eight')\n",
    "elif num == 9:\n",
    "    print('Nine')\n",
    "else:\n",
    "    print('Number is outside the range')    "
   ]
  },
  {
   "cell_type": "markdown",
   "id": "bc73c0ac",
   "metadata": {},
   "source": [
    "### Question 2\n",
    "W. A P. to implement calculator but the operation to be done and two\n",
    "numbers will be taken as input from user:-\n",
    "Operation console should show below:-\n",
    "Please select any one operation from below:-\n",
    "* To add enter 1\n",
    "* to subtract enter 2\n",
    "* To multiply enter 3\n",
    "* To divide enter 4\n",
    "* To divide and find quotient enter 5\n",
    "* To divide and find remainder enter 6\n",
    "* To find num1 to the power of num2 enter 7\n",
    "* To Come out of the program enter 8"
   ]
  },
  {
   "cell_type": "code",
   "execution_count": 18,
   "id": "8dab941d",
   "metadata": {},
   "outputs": [
    {
     "name": "stdout",
     "output_type": "stream",
     "text": [
      "Enter first number for the operation: 7\n",
      "Enter second number for the operation: 6\n",
      "Please select any one operation from below:-\n",
      "To add enter 1\n",
      "to subtract enter 2\n",
      "To multiply enter 3\n",
      "To divide enter 4\n",
      "To divide and find quotient enter 5\n",
      "To divide and find remainder enter 6\n",
      "To find num1 to the power of num2 enter 7\n",
      "To Come out of the program enter 8 \n",
      "3\n",
      "The product of 7 and 6 is: 42\n"
     ]
    }
   ],
   "source": [
    "num1 = int(input('Enter first number for the operation: '))\n",
    "num2 = int(input('Enter second number for the operation: '))\n",
    "operation = int(input('''Please select any one operation from below:-\n",
    "To add enter 1\n",
    "to subtract enter 2\n",
    "To multiply enter 3\n",
    "To divide enter 4\n",
    "To divide and find quotient enter 5\n",
    "To divide and find remainder enter 6\n",
    "To find num1 to the power of num2 enter 7\n",
    "To Come out of the program enter 8 \\n'''))\n",
    "\n",
    "if operation == 1:\n",
    "    print(f'The addition of {num1} and {num2} is:', num1+num2)\n",
    "elif operation == 2:\n",
    "    print(f'The subtraction of {num1} and {num2} is:', num1-num2)\n",
    "elif operation == 3:\n",
    "    print(f'The product of {num1} and {num2} is:', num1*num2)\n",
    "elif operation == 4:\n",
    "    print(f'The division of {num1} and {num2} is:', num1/num2)\n",
    "elif operation == 5:\n",
    "    print(f'The quotient of {num1} divided by {num2} is:', num1//num2)\n",
    "elif operation == 6:\n",
    "    print(f'The remainder of {num1} divided by {num2} is:', num1%num2)\n",
    "elif operation == 7:\n",
    "    print(f'The power of {num1} to {num2} is:', num1**num2)\n",
    "elif operation == 8:\n",
    "    quit()\n",
    "    \n",
    "    "
   ]
  },
  {
   "cell_type": "markdown",
   "id": "a67bb9cf",
   "metadata": {},
   "source": [
    "### Question 3\n",
    "W A P to check whether a year entered by user is an leap year or not?\n",
    "Check with below input:-<br>\n",
    "leap year:- 2012, 1968, 2004, 1200, 1600,2400<br>\n",
    "Non-lear year:- 1971, 2006, 1700,1800,1900"
   ]
  },
  {
   "cell_type": "code",
   "execution_count": 19,
   "id": "9c2c3e35",
   "metadata": {},
   "outputs": [
    {
     "name": "stdout",
     "output_type": "stream",
     "text": [
      "Enter a year:2020\n",
      "2020 is a Leap Year\n"
     ]
    }
   ],
   "source": [
    "year = int(input('Enter a year:'))\n",
    "if (year%4 == 0 and year%100!=0) or (year%400 == 0):\n",
    "    print(f'{year} is a Leap Year')\n",
    "else:\n",
    "    print(f'{year}is not a leap Year')"
   ]
  },
  {
   "cell_type": "markdown",
   "id": "5f930f27",
   "metadata": {},
   "source": [
    "### Question 4\n",
    "W A P which takes one number from the user and checks whether it is\n",
    "an even or odd number?, If it even then prints number is\n",
    "even number else prints that number is odd number."
   ]
  },
  {
   "cell_type": "code",
   "execution_count": 20,
   "id": "196a2cd2",
   "metadata": {},
   "outputs": [
    {
     "name": "stdout",
     "output_type": "stream",
     "text": [
      "Enter a number: 7\n",
      "Number is odd number\n"
     ]
    }
   ],
   "source": [
    "num = int(input('Enter a number: '))\n",
    "if num % 2 == 0:\n",
    "    print('Number is even number')\n",
    "else:\n",
    "    print('Number is odd number')"
   ]
  },
  {
   "cell_type": "markdown",
   "id": "1bcafea8",
   "metadata": {},
   "source": [
    "### Question 5 \n",
    "W A P which takes two numbers from the user and prints below output:-\n",
    "1. num1 is greater than num2 if num1 is greater than num2\n",
    "2. num1 is smaller than num2 if num1 is smaller than num2\n",
    "3. num1 is equal to num2 if num1 and num2 are equal"
   ]
  },
  {
   "cell_type": "code",
   "execution_count": 21,
   "id": "24a3304e",
   "metadata": {},
   "outputs": [
    {
     "name": "stdout",
     "output_type": "stream",
     "text": [
      "Enter first number: 7\n",
      "Enter second number: 5\n",
      "num1 is greater than num2\n"
     ]
    }
   ],
   "source": [
    "num1 = eval(input('Enter first number: '))\n",
    "num2 = eval(input('Enter second number: '))\n",
    "if num1 > num2:\n",
    "    print('num1 is greater than num2')\n",
    "elif num1 < num2:\n",
    "    print('num1 is smaller than num2')\n",
    "else: \n",
    "    print('num1 is equal to num2 ')\n",
    "    "
   ]
  },
  {
   "cell_type": "code",
   "execution_count": 22,
   "id": "0bf30d7c",
   "metadata": {},
   "outputs": [
    {
     "name": "stdout",
     "output_type": "stream",
     "text": [
      "Enter first number: 5\n",
      "Enter second number: 4\n",
      "num1 is greater than num2\n"
     ]
    }
   ],
   "source": [
    "num1 = eval(input('Enter first number: '))\n",
    "num2 = eval(input('Enter second number: '))\n",
    "if num1 != num2:\n",
    "    if num1 > num2:\n",
    "        print('num1 is greater than num2')\n",
    "    else:\n",
    "        print('num1 is smaller than num2')\n",
    "else: \n",
    "    print('num1 is equal to num2 ')"
   ]
  },
  {
   "cell_type": "code",
   "execution_count": 23,
   "id": "913c88f1",
   "metadata": {},
   "outputs": [
    {
     "name": "stdout",
     "output_type": "stream",
     "text": [
      "Enter first number: 9\n",
      "Enter second number: 10\n",
      "num1 is smaller than num2\n"
     ]
    }
   ],
   "source": [
    "num1 = eval(input('Enter first number: '))\n",
    "num2 = eval(input('Enter second number: '))\n",
    "print (\"Both num1 and num2 are equal\" if num1 == num2 else \"num1 is greater than num2\"\n",
    "        if num1 > num2 else \"num1 is smaller than num2\")"
   ]
  },
  {
   "cell_type": "markdown",
   "id": "19d71979",
   "metadata": {},
   "source": [
    "### Question 6\n",
    "W A P which takes three numbers from the user and prints below\n",
    "output:-\n",
    "1. num1 is greater than num2 and num3, if num1 is greater than num2 and num3\n",
    "\n",
    "2. num2 is greater than num1 and num3, if num2 is greater than num1 and num3\n",
    "\n",
    "3. num3 is greater than num1 and num2, if num3 is greater than num1 and num2\n",
    "\n",
    "Note:- \n",
    "1. Do this problem using if - elif - else\n",
    "2. Do this using ternary operator\n",
    "a = a if a>b else b"
   ]
  },
  {
   "cell_type": "code",
   "execution_count": 16,
   "id": "e8efccbf",
   "metadata": {},
   "outputs": [
    {
     "name": "stdout",
     "output_type": "stream",
     "text": [
      "Enter first number for the operation: 7\n",
      "Enter second number for the operation: 5\n",
      "Enter third number for the operation: 6\n",
      "num 1 is greater than num 2 and num 3\n"
     ]
    }
   ],
   "source": [
    "num1 = int(input('Enter first number for the operation: '))\n",
    "num2 = int(input('Enter second number for the operation: '))\n",
    "num3 = int(input('Enter third number for the operation: '))\n",
    "if num1>num2 and num1>num3:\n",
    "    print(\"num 1 is greater than num 2 and num 3\")\n",
    "elif num2>num1 and num2>num3:\n",
    "    print ('num 2 is greater than num 1 and num 3')\n",
    "else:\n",
    "    print('num 3 is greater than num 1 and num 2')\n",
    "    "
   ]
  },
  {
   "cell_type": "code",
   "execution_count": 17,
   "id": "c55d95af",
   "metadata": {},
   "outputs": [
    {
     "name": "stdout",
     "output_type": "stream",
     "text": [
      "Enter first number for the operation: 7\n",
      "Enter second number for the operation: 8\n",
      "Enter third number for the operation: 2\n",
      "num 2 is greater than num 1 and num 3\n"
     ]
    }
   ],
   "source": [
    "num1 = int(input('Enter first number for the operation: '))\n",
    "num2 = int(input('Enter second number for the operation: '))\n",
    "num3 = int(input('Enter third number for the operation: '))\n",
    "print(\"num 1 is greater than num 2 and num 3\" if num1>num2 and num1>num3 else 'num 2 is greater than num 1 and num 3' if num2>num1 and num2>num3 else 'num 3 is greater than num 1 and num 2')"
   ]
  },
  {
   "cell_type": "code",
   "execution_count": 18,
   "id": "f9919243",
   "metadata": {},
   "outputs": [
    {
     "name": "stdout",
     "output_type": "stream",
     "text": [
      "Enter 1st number:4\n",
      "Enter 2nd number:6\n",
      "6\n"
     ]
    }
   ],
   "source": [
    "# a = a if a>b else b\n",
    "a = int(input('Enter 1st number:'))\n",
    "b = int(input('Enter 2nd number:'))\n",
    "a = a if a > b else b\n",
    "print(a)"
   ]
  },
  {
   "cell_type": "markdown",
   "id": "006e2a2e",
   "metadata": {},
   "source": [
    "### Question 7\n",
    "Write a Python program to find the length of the my_str using loop:- <br>\n",
    "Input:- 'Write a Python program to find the length of the my_str'<br>\n",
    "Output:- 55"
   ]
  },
  {
   "cell_type": "code",
   "execution_count": 19,
   "id": "1b237f48",
   "metadata": {},
   "outputs": [
    {
     "name": "stdout",
     "output_type": "stream",
     "text": [
      "55\n"
     ]
    }
   ],
   "source": [
    "in_put = 'Write a Python program to find the length of the my_str'\n",
    "count  = 0\n",
    "for i in in_put:\n",
    "    count += 1 \n",
    "print(count)"
   ]
  },
  {
   "cell_type": "markdown",
   "id": "bb6a686a",
   "metadata": {},
   "source": [
    "### Question 8 \n",
    "Write a Python program to find the total number of times letter 'p' is appeared in the below string using loop:-<br>\n",
    "Input:- 'peter piper picked a peck of pickled peppers.\\n' <br>\n",
    "Output:- 9"
   ]
  },
  {
   "cell_type": "code",
   "execution_count": 20,
   "id": "9ea0433b",
   "metadata": {},
   "outputs": [
    {
     "name": "stdout",
     "output_type": "stream",
     "text": [
      "9\n"
     ]
    }
   ],
   "source": [
    "my_str =  'peter piper picked a peck of pickled peppers.\\n'\n",
    "p_count = 0\n",
    "for j in my_str: \n",
    "    if j == 'p':\n",
    "        p_count += 1 \n",
    "print(p_count)"
   ]
  },
  {
   "cell_type": "markdown",
   "id": "cdfdda21",
   "metadata": {},
   "source": [
    "### Question 9\n",
    "Write a Python Program, to print all the indexes of all occurences of\n",
    "letter 'p' appeared in the string using loop:-"
   ]
  },
  {
   "cell_type": "code",
   "execution_count": 21,
   "id": "639523f0",
   "metadata": {},
   "outputs": [
    {
     "name": "stdout",
     "output_type": "stream",
     "text": [
      "0\n",
      "6\n",
      "8\n",
      "12\n",
      "21\n",
      "29\n",
      "37\n",
      "39\n",
      "40\n"
     ]
    }
   ],
   "source": [
    "my_str = 'peter piper picked a peck of pickled peppers.'\n",
    "for i in range(0,len(my_str)):\n",
    "    if my_str[i] == 'p':\n",
    "        print(i)"
   ]
  },
  {
   "cell_type": "markdown",
   "id": "7e0cc341",
   "metadata": {},
   "source": [
    "### Question 10\n",
    "Write a python program to find below output using loop:-<br>\n",
    "Input:- 'peter piper picked a peck of pickled peppers.'<br>\n",
    "Output:- ['peter', 'piper', 'picked', 'a', 'peck', 'of', 'pickled',\n",
    "'peppers']"
   ]
  },
  {
   "cell_type": "code",
   "execution_count": 23,
   "id": "5ca40df8",
   "metadata": {},
   "outputs": [
    {
     "name": "stdout",
     "output_type": "stream",
     "text": [
      "['peter', 'piper', 'picked', 'a', 'peck', 'of', 'pickled', 'peppers']\n"
     ]
    }
   ],
   "source": [
    "my_str = 'peter piper picked a peck of pickled peppers.'\n",
    "lst = []\n",
    "out_str = ''\n",
    "for i in range(0,len(my_str)):\n",
    "    if my_str[i] == ' ':\n",
    "        lst += [out_str]\n",
    "        out_str = ''\n",
    "    elif i == len(my_str)-2:\n",
    "        out_str += my_str[i]\n",
    "        lst += [out_str]\n",
    "    else:\n",
    "        out_str += my_str[i]\n",
    "print(lst)\n",
    "        "
   ]
  },
  {
   "cell_type": "markdown",
   "id": "d7604089",
   "metadata": {},
   "source": [
    "### Question 11 \n",
    "Write a python program to find below output using loop:-<br>\n",
    "Input:- 'peter piper picked a peck of pickled peppers.'<br>\n",
    "Output:- 'peppers pickled of peck a picked piper peter'"
   ]
  },
  {
   "cell_type": "code",
   "execution_count": 24,
   "id": "81dfcec1",
   "metadata": {},
   "outputs": [
    {
     "name": "stdout",
     "output_type": "stream",
     "text": [
      "peppers pickled of peck a picked piper peter\n"
     ]
    }
   ],
   "source": [
    "my_str = 'peter piper picked a peck of pickled peppers.'\n",
    "lst = []\n",
    "out_str = ''\n",
    "out_str1 = ''\n",
    "for i in range(0,len(my_str)):\n",
    "    if my_str[i] == ' ':\n",
    "        lst += [out_str]\n",
    "        out_str = ''\n",
    "    elif i == len(my_str)-2:\n",
    "        out_str += my_str[i]\n",
    "        lst += [out_str]\n",
    "    else:\n",
    "        out_str += my_str[i]\n",
    "for j in range(-1,-len(lst)-1,-1):\n",
    "    if j == -1:\n",
    "        out_str1 = out_str1 + lst[j]\n",
    "    else:\n",
    "        out_str1 = out_str1 + ' ' + lst[j]\n",
    "print(out_str1)"
   ]
  },
  {
   "cell_type": "markdown",
   "id": "f4d2498e",
   "metadata": {},
   "source": [
    "### Question 12\n",
    "Write a python program to find below output using loop:-<br>\n",
    "Input:- 'peter piper picked a peck of pickled peppers.'<br>\n",
    "Output:- '.sreppep delkcip fo kcep a dekcip repip retep'"
   ]
  },
  {
   "cell_type": "code",
   "execution_count": 25,
   "id": "19a60794",
   "metadata": {},
   "outputs": [
    {
     "name": "stdout",
     "output_type": "stream",
     "text": [
      ".sreppep delkcip fo kcep a dekcip repip retep\n"
     ]
    }
   ],
   "source": [
    "my_str = 'peter piper picked a peck of pickled peppers.'\n",
    "out_str = ''\n",
    "for i in range(-1,-len(my_str)-1,-1):\n",
    "    out_str += my_str[i] \n",
    "print(out_str)"
   ]
  },
  {
   "cell_type": "markdown",
   "id": "1ed3c279",
   "metadata": {},
   "source": [
    "### Question 13\n",
    "Write a python program to find below output using loop:-<br>\n",
    "Input:- 'peter piper picked a peck of pickled peppers.'<br>\n",
    "Output:- 'retep repip dekcip a kcep fo delkcip sreppep'"
   ]
  },
  {
   "cell_type": "code",
   "execution_count": 26,
   "id": "534059f5",
   "metadata": {},
   "outputs": [
    {
     "name": "stdout",
     "output_type": "stream",
     "text": [
      "retep repip dekcip a kcep fo delkcip sreppep \n"
     ]
    }
   ],
   "source": [
    "my_str = 'peter piper picked a peck of pickled peppers.'\n",
    "lst = []\n",
    "out_str = ''\n",
    "res_str = ''\n",
    "for i in range(0,len(my_str)):\n",
    "    if my_str[i] == ' ':\n",
    "        lst += [out_str]\n",
    "        out_str = ''\n",
    "    elif i == len(my_str)-2:\n",
    "        out_str += my_str[i]\n",
    "        lst += [out_str]\n",
    "    else:\n",
    "        out_str += my_str[i]\n",
    "for j in lst:\n",
    "    for k in range(-1,-len(j)-1,-1):\n",
    "        res_str = res_str + j[k]\n",
    "    res_str += \" \"\n",
    "print(res_str)\n",
    "    "
   ]
  },
  {
   "cell_type": "markdown",
   "id": "44aef441",
   "metadata": {},
   "source": [
    "### Question 14\n",
    "Write a python program to find below output using loop:-<br>\n",
    "Input:- 'peter piper picked a peck of pickled peppers.'<br>\n",
    "Output:- 'Peter Piper Picked A Peck Of Pickled Peppers'"
   ]
  },
  {
   "cell_type": "code",
   "execution_count": 2,
   "id": "b185d76a",
   "metadata": {},
   "outputs": [
    {
     "name": "stdout",
     "output_type": "stream",
     "text": [
      "Peter Piper Picked A Peck Of Pickled Peppers\n"
     ]
    }
   ],
   "source": [
    "my_str = 'peter piper picked a peck of pickled peppers.'\n",
    "out_str = ''\n",
    "temp = ''\n",
    "for i in range(0,len(my_str)-1):\n",
    "    if i == 0:\n",
    "        temp = my_str[0].upper()\n",
    "        out_str += temp\n",
    "        temp = ''\n",
    "    elif my_str[i] == ' ':\n",
    "        temp = my_str[i+1].upper()\n",
    "        out_str = out_str + \" \" + temp\n",
    "        temp = ''\n",
    "    elif my_str[i-1] == ' ':\n",
    "        continue\n",
    "    else:\n",
    "        out_str += my_str[i]\n",
    "        \n",
    "print(out_str)"
   ]
  },
  {
   "cell_type": "markdown",
   "id": "fc6e74af",
   "metadata": {},
   "source": [
    "### Question 15\n",
    "Write a python program to find below output using loop:- <br>\n",
    "Input:- 'Peter Piper Picked A Peck Of Pickled Peppers.'<br>\n",
    "Output:- 'Peter piper picked a peck of pickled peppers'\n"
   ]
  },
  {
   "cell_type": "code",
   "execution_count": 28,
   "id": "5e0e7738",
   "metadata": {},
   "outputs": [
    {
     "name": "stdout",
     "output_type": "stream",
     "text": [
      "Peter piper picked a peck of pickled peppers\n"
     ]
    }
   ],
   "source": [
    "my_str = 'Peter Piper Picked A Peck Of Pickled Peppers.'\n",
    "lst = []\n",
    "out_str = ''\n",
    "res_str = ''\n",
    "for i in range(0,len(my_str)):\n",
    "    if my_str[i] == ' ':\n",
    "        lst += [out_str]\n",
    "        out_str = ''\n",
    "    elif i == len(my_str)-2:\n",
    "        out_str += my_str[i]\n",
    "        lst += [out_str]\n",
    "    else:\n",
    "        out_str += my_str[i]\n",
    "for i in range(len(lst)): \n",
    "    if i == 0:\n",
    "        res_str += lst[i] \n",
    "    else:\n",
    "        res_str = res_str + ' ' + lst[i].casefold()\n",
    "        \n",
    "print(res_str)"
   ]
  },
  {
   "cell_type": "markdown",
   "id": "f2e51faf",
   "metadata": {},
   "source": [
    "### Question 16\n",
    "Write a python program to implement index method using loop. If\n",
    "sub_str is found in my_str then it will print the index\n",
    "of first occurrence of first character of matching string in my_str:-<br>\n",
    "Input:- my_str = 'Peter Piper Picked A Peck Of Pickled Peppers.',<br>\n",
    "sub_str = 'Pickl'<br>\n",
    "Output:- 29"
   ]
  },
  {
   "cell_type": "code",
   "execution_count": 26,
   "id": "f37bf54b",
   "metadata": {},
   "outputs": [
    {
     "name": "stdout",
     "output_type": "stream",
     "text": [
      "29\n"
     ]
    }
   ],
   "source": [
    "my_str = 'Peter Piper Picked A Peck Of Pickled Peppers.'\n",
    "sub_str = 'Pickl'\n",
    "i = 0\n",
    "while (my_str[i:(i+len(sub_str))] != sub_str):\n",
    "    if i == len(my_str):\n",
    "        break\n",
    "    else:\n",
    "        i = i+1\n",
    "if i < len(my_str):\n",
    "    print(i)\n",
    "else:\n",
    "    print(\"not found\")"
   ]
  },
  {
   "cell_type": "markdown",
   "id": "751537e5",
   "metadata": {},
   "source": [
    "### Question 17\n",
    "Write a python program to implement replace method using loop. If\n",
    "sub_str is found in my_str then it will replace the first\n",
    "occurrence of sub_str with new_str else it will will print sub_str not\n",
    "found:-<br>\n",
    "Input:- my_str = 'Peter Piper Picked A Peck Of Pickled Peppers.',<br>\n",
    "sub_str = 'Peck', new_str = 'Pack'<br>\n",
    "Output:- 'Peter Piper Picked A Pack Of Pickled Peppers.'"
   ]
  },
  {
   "cell_type": "code",
   "execution_count": 27,
   "id": "09ffe317",
   "metadata": {},
   "outputs": [
    {
     "name": "stdout",
     "output_type": "stream",
     "text": [
      "Peter Piper Picked A Pack Of Pickled Peppers.\n"
     ]
    }
   ],
   "source": [
    "my_str = 'Peter Piper Picked A Peck Of Pickled Peppers.'\n",
    "sub_str = 'Peck'\n",
    "new_str = 'Pack'\n",
    "i = 0\n",
    "flag = 0\n",
    "while (i <= len(my_str)):\n",
    "    if my_str[i:(i+len(sub_str))] == sub_str:\n",
    "        print(my_str[0:i] + new_str + my_str[i+(len(sub_str)):len(my_str)])\n",
    "        flag = 1\n",
    "    i = i+1\n",
    "if flag == 0:\n",
    "    print('sub_str not found')"
   ]
  },
  {
   "cell_type": "markdown",
   "id": "e302ab87",
   "metadata": {},
   "source": [
    "### Question 18\n"
   ]
  },
  {
   "cell_type": "code",
   "execution_count": 32,
   "id": "2762d848",
   "metadata": {},
   "outputs": [],
   "source": [
    "# Write a python program to find below output (implements rjust and\n",
    "# ljust) using loop:-<br>\n",
    "# Input:- 'Peter Piper Picked A Peck Of Pickled Peppers.', sub_str ='Peck',\n",
    "# Output:- *********************Peck********************"
   ]
  },
  {
   "cell_type": "code",
   "execution_count": 33,
   "id": "a6ab16e5",
   "metadata": {},
   "outputs": [
    {
     "name": "stdout",
     "output_type": "stream",
     "text": [
      "Peter Piper Picked A Peck Of Pickled Peppers.\n",
      "*********************Peck********************"
     ]
    }
   ],
   "source": [
    "my_str = 'Peter Piper Picked A Peck Of Pickled Peppers.'\n",
    "sub_str = 'Peck'\n",
    "i = 0\n",
    "print(my_str)\n",
    "while (i<(len(my_str)-len(sub_str))+1):\n",
    "    if my_str[i:(i+len(sub_str))] != sub_str:\n",
    "        print('*',end='')\n",
    "    else:\n",
    "        print(sub_str,end='')\n",
    "    i = i+1"
   ]
  },
  {
   "cell_type": "markdown",
   "id": "7f967b07",
   "metadata": {},
   "source": [
    "### Question 19\n",
    "Write a python program to find below output using loop:-<br>\n",
    "Input:- 'This is Python class', sep = ' is',<br>\n",
    "Output:- ['This', 'is', 'Python class']"
   ]
  },
  {
   "cell_type": "code",
   "execution_count": 16,
   "id": "a40fbbec",
   "metadata": {},
   "outputs": [
    {
     "name": "stdout",
     "output_type": "stream",
     "text": [
      "['This', ' is', 'Python class']\n"
     ]
    }
   ],
   "source": [
    "my_str = 'This is Python class'\n",
    "sub_str = ' is'\n",
    "i = 0\n",
    "lst = []\n",
    "out_str = ''\n",
    "while (i<len(my_str)):\n",
    "    if my_str[i:(i+len(sub_str))] == sub_str:\n",
    "            lst += [out_str] + [sub_str]\n",
    "            out_str = ''\n",
    "            i += len(sub_str)\n",
    "    elif i == len(my_str)-1:\n",
    "        out_str += my_str[i]\n",
    "        lst += [out_str]\n",
    "    else:\n",
    "        out_str += my_str[i]\n",
    "    i += 1 \n",
    "print(lst)"
   ]
  }
 ],
 "metadata": {
  "kernelspec": {
   "display_name": "Python 3",
   "language": "python",
   "name": "python3"
  },
  "language_info": {
   "codemirror_mode": {
    "name": "ipython",
    "version": 3
   },
   "file_extension": ".py",
   "mimetype": "text/x-python",
   "name": "python",
   "nbconvert_exporter": "python",
   "pygments_lexer": "ipython3",
   "version": "3.8.11"
  }
 },
 "nbformat": 4,
 "nbformat_minor": 5
}
