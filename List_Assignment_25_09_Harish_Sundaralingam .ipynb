{
 "cells": [
  {
   "cell_type": "markdown",
   "metadata": {},
   "source": [
    "# List Assignment"
   ]
  },
  {
   "cell_type": "markdown",
   "metadata": {
    "id": "gtlAv2oq9yzd"
   },
   "source": [
    "### Question 1\n",
    "Write a Python program to find the sum of all elements in a list using loop.<br>\n",
    "Input:- [10,20,30,40]<br>\n",
    "Output:- 100"
   ]
  },
  {
   "cell_type": "code",
   "execution_count": 1,
   "metadata": {},
   "outputs": [
    {
     "name": "stdout",
     "output_type": "stream",
     "text": [
      "100\n"
     ]
    }
   ],
   "source": [
    "lst = [10,20,30,40]\n",
    "summ = 0\n",
    "for i in lst:\n",
    "    summ += i \n",
    "print(summ)"
   ]
  },
  {
   "cell_type": "markdown",
   "metadata": {
    "id": "gTbA8psa93Y_"
   },
   "source": [
    "### Question 2\n",
    "Write a Python program to find the multiplication of all elements in a list using loop.<br>\n",
    "Input:- [10,20,30,40]<br>\n",
    "Output:- 240000\n",
    "\n",
    "\n"
   ]
  },
  {
   "cell_type": "code",
   "execution_count": 4,
   "metadata": {},
   "outputs": [
    {
     "name": "stdout",
     "output_type": "stream",
     "text": [
      "240000\n"
     ]
    }
   ],
   "source": [
    "lst = [10,20,30,40]\n",
    "mul = 1\n",
    "for i in lst:\n",
    "    mul *= i \n",
    "print(mul)"
   ]
  },
  {
   "cell_type": "markdown",
   "metadata": {
    "id": "XBCrEtLN94Lj"
   },
   "source": [
    "### Question 3\n",
    "Write a Python program to find the largest number from a list using loop.<br>\n",
    "Input:- [10,100,2321, 1,200,2]<br>\n",
    "Output:- 2321\n",
    "\n",
    "\n"
   ]
  },
  {
   "cell_type": "code",
   "execution_count": 2,
   "metadata": {},
   "outputs": [
    {
     "name": "stdout",
     "output_type": "stream",
     "text": [
      "2321\n"
     ]
    }
   ],
   "source": [
    "lst = [10,100,2321, 1,200,2]\n",
    "max_num = lst[0]\n",
    "for i in lst:\n",
    "    if i > max_num:\n",
    "        max_num = i\n",
    "print(max_num)"
   ]
  },
  {
   "cell_type": "markdown",
   "metadata": {},
   "source": [
    "### Question 4\n",
    "Write a Python program to find the smallest number from a list using loop.<br>\n",
    "Input:- [10,100,2321, 1,200,2]<br>\n",
    "Output:- 1"
   ]
  },
  {
   "cell_type": "code",
   "execution_count": 4,
   "metadata": {
    "id": "l3paUtbH94Vw"
   },
   "outputs": [
    {
     "name": "stdout",
     "output_type": "stream",
     "text": [
      "1\n"
     ]
    }
   ],
   "source": [
    "lst = [10,100,2321, 1,200,2]\n",
    "min_num = lst[0]\n",
    "for i in lst:\n",
    "    if i < min_num:\n",
    "        min_num = i\n",
    "print(min_num)"
   ]
  },
  {
   "cell_type": "markdown",
   "metadata": {},
   "source": [
    "### Question 5\n",
    "Write a Python program to count the number of strings having length more than 2 and are palindrome in a list using loop<br>\n",
    "Input:- ['ab', 'abc', 'aba', 'xyz', '1991']<br>\n",
    "Output:- 2"
   ]
  },
  {
   "cell_type": "code",
   "execution_count": 41,
   "metadata": {
    "id": "JTVgy5VD94cE"
   },
   "outputs": [
    {
     "name": "stdout",
     "output_type": "stream",
     "text": [
      "2\n"
     ]
    }
   ],
   "source": [
    "lst = ['ab', 'abc', 'aba', 'xyz', '1991']\n",
    "temp = 0\n",
    "count = 0\n",
    "for i in lst:\n",
    "    if len(i) > 2 and i == i[::-1]: \n",
    "            count += 1\n",
    "print(count)\n",
    "    "
   ]
  },
  {
   "cell_type": "markdown",
   "metadata": {
    "id": "xs-ZGJbJ94gr"
   },
   "source": [
    "### Question 6\n",
    "Write a Python program to sort a list in ascending order using loop.<br>\n",
    "Input:- [100,10,1,298,65,483,49876,2,80,9,9213]<br>\n",
    "Output:- [1,2,9,10,65,80,100,298,483,9213,49876]"
   ]
  },
  {
   "cell_type": "code",
   "execution_count": 9,
   "metadata": {},
   "outputs": [
    {
     "name": "stdout",
     "output_type": "stream",
     "text": [
      "[1, 2, 9, 10, 65, 80, 100, 298, 483, 9213, 49876]\n"
     ]
    }
   ],
   "source": [
    "lst = [100,10,1,298,65,483,49876,2,80,9,9213]\n",
    "swap = None\n",
    "temp = 0\n",
    "for j in range(len(lst)):\n",
    "    swap = False\n",
    "    for i in range(len(lst)-j-1):\n",
    "            if lst[i]>lst[i+1]:\n",
    "                temp = lst [i]\n",
    "                lst[i] = lst[i+1]\n",
    "                lst[i+1] = temp\n",
    "                swap = True\n",
    "    if swap == False: \n",
    "        break\n",
    "print(lst)                    "
   ]
  },
  {
   "cell_type": "markdown",
   "metadata": {},
   "source": [
    "### Question 7\n",
    "Write a Python program to remove fuplicate element from a list using loop.<br>\n",
    "Input:- [10,1,11,1,29,876,768,10,11,1,92,29,876]<br>\n",
    "Output:- [10,1,11,29,876,768,92]"
   ]
  },
  {
   "cell_type": "code",
   "execution_count": 3,
   "metadata": {},
   "outputs": [
    {
     "name": "stdout",
     "output_type": "stream",
     "text": [
      "[10, 1, 11, 29, 876, 768, 92]\n"
     ]
    }
   ],
   "source": [
    "in_lst = [10,1,11,1,29,876,768,10,11,1,92,29,876]\n",
    "lst = []\n",
    "for i in in_lst:\n",
    "    if i not in lst:\n",
    "        lst.append(i)\n",
    "print(lst)"
   ]
  },
  {
   "cell_type": "markdown",
   "metadata": {
    "id": "VhKQJizZ94kg"
   },
   "source": [
    "### Question 8\n",
    "Write a Python program to get a sorted list in increasing order of last element in each tuple in a given list using loop.<br>\n",
    "Input:- [(5,4),(9,1),(2,3),(5,9),(7,6),(5,5)]<br>\n",
    "output:- [(9,1),(2,3),(5,4),(5,5),(7,6),(5,9)]\n",
    "\n",
    "\n"
   ]
  },
  {
   "cell_type": "code",
   "execution_count": 8,
   "metadata": {
    "id": "YJrCLYp694n_"
   },
   "outputs": [
    {
     "name": "stdout",
     "output_type": "stream",
     "text": [
      "[(9, 1), (2, 3), (5, 4), (5, 5), (7, 6), (5, 9)]\n"
     ]
    }
   ],
   "source": [
    "lst = [(5,4),(9,1),(2,3),(5,9),(7,6),(5,5)]\n",
    "swap = None\n",
    "temp = 0\n",
    "for j in range(len(lst)):\n",
    "    swap = False\n",
    "    for i in range(len(lst)-j-1):\n",
    "           if lst[i][len(lst[i])-1]>lst[i+1][len(lst[i+1])-1]:\n",
    "                temp = lst [i]\n",
    "                lst[i] = lst[i+1]\n",
    "                lst[i+1] = temp\n",
    "                swap = True\n",
    "    if swap == False: \n",
    "        break\n",
    "print(lst)      \n",
    "\n"
   ]
  },
  {
   "cell_type": "markdown",
   "metadata": {
    "id": "koYe4YCu94rh"
   },
   "source": [
    "### Question 9\n",
    "Write a Python program to check a list is empty or not?<br>\n",
    "Input:- []<br>\n",
    "Output:- List is empty<br>\n",
    "Input:- [10,20,30]<br>\n",
    "Output:- List is not empty"
   ]
  },
  {
   "cell_type": "code",
   "execution_count": 14,
   "metadata": {},
   "outputs": [
    {
     "name": "stdout",
     "output_type": "stream",
     "text": [
      "Enter a list:[10,20,30]\n",
      "List is not empty\n"
     ]
    }
   ],
   "source": [
    "lst = eval(input('Enter a list:'))\n",
    "if len(lst) == 0:\n",
    "    print('List is empty')\n",
    "else:\n",
    "    print('List is not empty')"
   ]
  },
  {
   "cell_type": "markdown",
   "metadata": {
    "id": "mES1WANa94u5"
   },
   "source": [
    "### Question 10\n",
    "Write a Python program to copy a list using loop.<br>\n",
    "inp_lst = [10,10.20,10+20j, 'Python', [10,20], (10,20)]<br>\n",
    "out_lst = [10,10.20,10+20j, 'Python', [10,20], (10,20)]"
   ]
  },
  {
   "cell_type": "code",
   "execution_count": 21,
   "metadata": {},
   "outputs": [
    {
     "name": "stdout",
     "output_type": "stream",
     "text": [
      "[10, 10.2, (10+20j), 'Python', [10, 20], (10, 20)]\n"
     ]
    }
   ],
   "source": [
    "inp_lst = [10,10.20,10+20j, 'Python', [10,20], (10,20)]\n",
    "out_lst = []\n",
    "for i in inp_lst:\n",
    "    out_lst += [i]\n",
    "print(out_lst)"
   ]
  },
  {
   "cell_type": "markdown",
   "metadata": {
    "id": "CpBh31WO94yi"
   },
   "source": [
    "### Question 111\n",
    "Write a Python program to find the list of words that are longer than or equal to 4 from a given string.<br>\n",
    "Input:- 'How much wood would a woodchuck chuck if a woodchuck could chuck wood'<br>\n",
    "Output:- ['much', 'wood', 'would', 'woodchuck', 'chuck', 'could']<br>\n",
    "Note:- Duplicate should be avoided."
   ]
  },
  {
   "cell_type": "code",
   "execution_count": 4,
   "metadata": {},
   "outputs": [
    {
     "name": "stdout",
     "output_type": "stream",
     "text": [
      "['much', 'wood', 'would', 'woodchuck', 'chuck', 'could']\n"
     ]
    }
   ],
   "source": [
    "my_str = 'How much wood would a woodchuck chuck if a woodchuck could chuck wood'\n",
    "lst = my_str.split(' ')\n",
    "out_lst = []\n",
    "res_lst = []\n",
    "temp = 0\n",
    "for i in lst:\n",
    "    if len(i) >= 4 and (i not in out_lst):\n",
    "        out_lst += [i]\n",
    "print(out_lst)"
   ]
  },
  {
   "cell_type": "markdown",
   "metadata": {
    "collapsed": true,
    "id": "YVfj0fgZ9416"
   },
   "source": [
    "### Question 12\n",
    "Write a Python program which takes two list as input and returns True if they have at least 3 common elements.<br>\n",
    "inp_lst1 = [10,20,'Python', 10.20, 10+20j, [10,20,30], (10,20,30)]<br>\n",
    "inp_lst2 = [(10,20,30),1,20+3j,100.2, 10+20j, [10,20,30],'Python']<br>\n",
    "Output:- True"
   ]
  },
  {
   "cell_type": "code",
   "execution_count": 5,
   "metadata": {},
   "outputs": [
    {
     "name": "stdout",
     "output_type": "stream",
     "text": [
      "True\n"
     ]
    }
   ],
   "source": [
    "inp_lst1 = [10,20,'Python', 10.20, 10+20j, [10,20,30], (10,20,30)]\n",
    "inp_lst2 = [(10,20,30),1,20+3j,100.2, 10+20j, [10,20,30],'Python']\n",
    "count = 0\n",
    "for i in inp_lst1:\n",
    "    for j in inp_lst2:\n",
    "        if i == j:\n",
    "            count += 1\n",
    "if count >= 3:\n",
    "    print(\"True\")\n",
    "else: \n",
    "    print(\"False\")\n",
    "            "
   ]
  },
  {
   "cell_type": "markdown",
   "metadata": {
    "id": "7vwc3pjR945O"
   },
   "source": [
    "### Question 13\n",
    "Write a Python program to create a 4X4 2D matrix with below elements using loop and list comprehension both.<br>\n",
    "Output:- [[0,0,0,0],[0,1,2,3],[0,2,4,6],[0,3,6,9]]"
   ]
  },
  {
   "cell_type": "code",
   "execution_count": 6,
   "metadata": {},
   "outputs": [
    {
     "name": "stdout",
     "output_type": "stream",
     "text": [
      "[[0, 0, 0, 0], [0, 1, 2, 3], [0, 2, 4, 6], [0, 3, 6, 9]]\n"
     ]
    }
   ],
   "source": [
    "temp_lst =[]\n",
    "out_lst = []\n",
    "for i in range (4):\n",
    "    for j in range (4):\n",
    "        temp_lst += [(i*j)]\n",
    "    out_lst += [temp_lst]\n",
    "    temp_lst = []\n",
    "print(out_lst)"
   ]
  },
  {
   "cell_type": "code",
   "execution_count": 7,
   "metadata": {},
   "outputs": [
    {
     "name": "stdout",
     "output_type": "stream",
     "text": [
      "[[0, 0, 0, 0], [0, 1, 2, 3], [0, 2, 4, 6], [0, 3, 6, 9]]\n"
     ]
    }
   ],
   "source": [
    "temp_lst = [[i*j for j in range(0,4)]for i in range(0,4)]\n",
    "print(temp_lst)"
   ]
  },
  {
   "cell_type": "markdown",
   "metadata": {
    "id": "Pxafor84948b"
   },
   "source": [
    "### Question 14\n",
    "Write a Python program to create a 3X4X6 3D matrix wiith below elements using loop<br>\n",
    "Output:-<br>\n",
    "[<br>\n",
    "    [[0,0,0,0,0,0],[0,0,0,0,0,0],[0,0,0,0,0,0],[0,0,0,0,0,0]],<br>\n",
    "    [[0,0,0,0,0,0],[1,1,1,1,1,1],[2,2,2,2,2,2],[3,3,3,3,3,3]],<br>\n",
    "     [[0,0,0,0,0,0],[2,2,2,2,2,2],[4,4,4,4,4,4],[6,6,6,6,6,6]]<br>\n",
    "]\n",
    "\n",
    "\n"
   ]
  },
  {
   "cell_type": "code",
   "execution_count": 8,
   "metadata": {},
   "outputs": [
    {
     "name": "stdout",
     "output_type": "stream",
     "text": [
      "[[[0, 0, 0, 0, 0, 0], [0, 0, 0, 0, 0, 0], [0, 0, 0, 0, 0, 0], [0, 0, 0, 0, 0, 0]], [[0, 0, 0, 0, 0, 0], [1, 1, 1, 1, 1, 1], [2, 2, 2, 2, 2, 2], [3, 3, 3, 3, 3, 3]], [[0, 0, 0, 0, 0, 0], [2, 2, 2, 2, 2, 2], [4, 4, 4, 4, 4, 4], [6, 6, 6, 6, 6, 6]]]\n"
     ]
    }
   ],
   "source": [
    "temp_lst =[]\n",
    "temp1_lst =[]\n",
    "out_lst = []\n",
    "for i in range(3):\n",
    "    for j in range(4):\n",
    "        for k in range(6):\n",
    "            temp1_lst += [i*j]\n",
    "        temp_lst += [temp1_lst]\n",
    "        temp1_lst = []\n",
    "    out_lst += [temp_lst]\n",
    "    temp_lst = []\n",
    "print(out_lst)"
   ]
  },
  {
   "cell_type": "markdown",
   "metadata": {
    "id": "lYNv8gk794_p"
   },
   "source": [
    "### Question 15\n",
    "Write a Python program which takes a list of numbers as input and prints a new list after removing even numbers from it.<br>\n",
    "Input:- [10,21,22,98,87,45,33,1,2,100]<br>\n",
    "Output:- [21,87,45,33,1]\n",
    "\n",
    "\n"
   ]
  },
  {
   "cell_type": "code",
   "execution_count": 9,
   "metadata": {},
   "outputs": [
    {
     "name": "stdout",
     "output_type": "stream",
     "text": [
      "[21, 87, 45, 33, 1]\n"
     ]
    }
   ],
   "source": [
    "inp_lst = [10,21,22,98,87,45,33,1,2,100]\n",
    "out_lst = []\n",
    "for i in inp_lst:\n",
    "    if i%2 != 0:\n",
    "        out_lst += [i]\n",
    "print(out_lst)\n",
    "        "
   ]
  },
  {
   "cell_type": "markdown",
   "metadata": {
    "id": "3BaCb-rB95B7"
   },
   "source": [
    "### Question 16\n",
    "Write a Python program which takes a list from the user and prints it after reshuffling the elements of the list.<br>\n",
    "Input:- [10,21,22,98,87,45,33,1,2,100]<br>\n",
    "Output:- [1,87,21,10,33,2,100,45,98,22] (It may be any randon list but with same elements)\n",
    "\n",
    "\n"
   ]
  },
  {
   "cell_type": "code",
   "execution_count": 10,
   "metadata": {},
   "outputs": [
    {
     "name": "stdout",
     "output_type": "stream",
     "text": [
      "Enter a list to shuffle:[10,21,22,98,87,45,33,1,2,100]\n",
      "[21, 45, 100, 2, 10, 87, 1, 33, 98, 22]\n"
     ]
    }
   ],
   "source": [
    "import random\n",
    "lst =  eval(input('Enter a list to shuffle:'))\n",
    "out_lst = []\n",
    "for i in range(0,len(lst)):\n",
    "    j = random.randint(0,len(lst)-1)\n",
    "    ele=lst.pop(j)\n",
    "    out_lst.append(ele)\n",
    "print(out_lst)\n",
    "    "
   ]
  }
 ],
 "metadata": {
  "colab": {
   "name": "List_Assignment.ipynb",
   "provenance": []
  },
  "kernelspec": {
   "display_name": "Python 3",
   "language": "python",
   "name": "python3"
  },
  "language_info": {
   "codemirror_mode": {
    "name": "ipython",
    "version": 3
   },
   "file_extension": ".py",
   "mimetype": "text/x-python",
   "name": "python",
   "nbconvert_exporter": "python",
   "pygments_lexer": "ipython3",
   "version": "3.8.11"
  }
 },
 "nbformat": 4,
 "nbformat_minor": 1
}
