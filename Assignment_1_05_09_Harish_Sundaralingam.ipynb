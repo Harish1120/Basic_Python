{
 "cells": [
  {
   "cell_type": "markdown",
   "id": "fd1f210f",
   "metadata": {},
   "source": [
    "# Integer Assingment "
   ]
  },
  {
   "cell_type": "markdown",
   "id": "d231bc8b",
   "metadata": {},
   "source": [
    "### Question 1"
   ]
  },
  {
   "cell_type": "code",
   "execution_count": 17,
   "id": "69dfbaf0",
   "metadata": {},
   "outputs": [
    {
     "name": "stdout",
     "output_type": "stream",
     "text": [
      "Enter a number:57\n",
      "1) 140731585211952\n",
      "2) <class 'int'>\n"
     ]
    }
   ],
   "source": [
    "a = int(input('Enter a number:'))\n",
    "print ('1',id(a),sep=') ')\n",
    "print('2',type(a),sep=') ')"
   ]
  },
  {
   "cell_type": "markdown",
   "id": "fd7c6527",
   "metadata": {},
   "source": [
    "### Question 2"
   ]
  },
  {
   "cell_type": "code",
   "execution_count": 4,
   "id": "3ea5b4cc",
   "metadata": {},
   "outputs": [
    {
     "name": "stdout",
     "output_type": "stream",
     "text": [
      "140712436318224\n",
      "140712436318224\n"
     ]
    }
   ],
   "source": [
    "a = 200\n",
    "b = 200 \n",
    "print(id(a))\n",
    "print(id(b))"
   ]
  },
  {
   "cell_type": "markdown",
   "id": "2b67d217",
   "metadata": {},
   "source": [
    "Becauce of integer caching, python caches small integer between -5 and 256. Object reuasbilty enhances performance as the object already exists but multiple references can point to it. "
   ]
  },
  {
   "cell_type": "markdown",
   "id": "955863e2",
   "metadata": {},
   "source": [
    "### Question 3"
   ]
  },
  {
   "cell_type": "code",
   "execution_count": 5,
   "id": "4a6ca8ba",
   "metadata": {},
   "outputs": [
    {
     "name": "stdout",
     "output_type": "stream",
     "text": [
      "2289726186864\n",
      "2289726186928\n"
     ]
    }
   ],
   "source": [
    "a = 360\n",
    "b = 360\n",
    "print(id(a))\n",
    "print(id(b))"
   ]
  },
  {
   "cell_type": "markdown",
   "id": "4b57006d",
   "metadata": {},
   "source": [
    "As this integer does not fall under the range of -5 to 256 it has not been predefined during startup hence 2 objects has been created when the assignment was done and new addresses are pointing to each of the 2 objects. "
   ]
  },
  {
   "cell_type": "markdown",
   "id": "c098f32f",
   "metadata": {},
   "source": [
    "### Question 4"
   ]
  },
  {
   "cell_type": "code",
   "execution_count": 18,
   "id": "c28c2b7d",
   "metadata": {},
   "outputs": [
    {
     "name": "stdout",
     "output_type": "stream",
     "text": [
      "Enter 1st Number:25\n",
      "Enter 2nd Number:04\n",
      "1) 29\n",
      "2) 21\n",
      "3) 100\n",
      "4) 6.25\n",
      "5) 1\n",
      "6) 6\n",
      "7) 390625\n"
     ]
    }
   ],
   "source": [
    "a = int(input('Enter 1st Number:'))\n",
    "b = int(input('Enter 2nd Number:'))\n",
    "print('1',a + b,sep = ') ')\n",
    "print('2',a - b,sep = ') ')\n",
    "print('3',a * b,sep = ') ')\n",
    "print('4',a / b,sep = ') ')\n",
    "print('5',a % b,sep = ') ')\n",
    "print('6',a // b,sep = ') ')\n",
    "print('7',a ** b,sep = ') ')"
   ]
  },
  {
   "cell_type": "markdown",
   "id": "8e4d4212",
   "metadata": {},
   "source": [
    "### Question 5"
   ]
  },
  {
   "cell_type": "code",
   "execution_count": 19,
   "id": "97b5a1db",
   "metadata": {},
   "outputs": [
    {
     "name": "stdout",
     "output_type": "stream",
     "text": [
      "Enter 1st Number:98\n",
      "Enter 2nd Number:45\n",
      "1) True\n",
      "2) False\n",
      "3) True\n",
      "4) False\n"
     ]
    }
   ],
   "source": [
    "a = int(input('Enter 1st Number:'))\n",
    "b = int(input('Enter 2nd Number:'))\n",
    "print('1',a > b,sep = ') ')\n",
    "print('2',a < b,sep = ') ')\n",
    "print('3',a >= b,sep = ') ')\n",
    "print('4',a <= b,sep = ') ')"
   ]
  },
  {
   "cell_type": "markdown",
   "id": "f0aebd95",
   "metadata": {},
   "source": [
    "### Question 6"
   ]
  },
  {
   "cell_type": "code",
   "execution_count": 20,
   "id": "e5609afc",
   "metadata": {},
   "outputs": [
    {
     "name": "stdout",
     "output_type": "stream",
     "text": [
      "Enter 1st Number:45\n",
      "Enter 2nd Number:12\n",
      "1) False\n",
      "2) True\n"
     ]
    }
   ],
   "source": [
    "a = int(input('Enter 1st Number:'))\n",
    "b = int(input('Enter 2nd Number:'))\n",
    "print('1',a == b,sep = ') ')\n",
    "print('2',a != b,sep = ') ')"
   ]
  },
  {
   "cell_type": "markdown",
   "id": "eea0dddf",
   "metadata": {},
   "source": [
    "### Question 7 \n",
    "\n",
    "<p><strong>AND Truth Table:</strong></p>\n",
    "<ol>\n",
    "<li>False and False = False</li>\n",
    "<li>False and True = False</li>\n",
    "<li>True and False = False</li>\n",
    "<li> True and True = True </li>\n",
    "</ol>\n",
    "\n",
    "###### AND gives priority to false\n",
    "  \n",
    " \n"
   ]
  },
  {
   "cell_type": "code",
   "execution_count": 38,
   "id": "39848266",
   "metadata": {},
   "outputs": [
    {
     "name": "stdout",
     "output_type": "stream",
     "text": [
      "20\n",
      "0\n",
      "0\n",
      "0\n"
     ]
    }
   ],
   "source": [
    "print(10 and 20)\n",
    "# The first value (10) is true therefore it checks if the second value (20) is false,\n",
    "# however the second value is also true hence it prints the second value. \n",
    "print(0 and 20)\n",
    "# The first value (0) which is False therefore it prints the first value without checking the second one. \n",
    "print(20 and 0)\n",
    "# The first value (20) is true therefore it checks the second value (0) which is false, so it prints the second value. \n",
    "print(0 and 0)\n",
    "# The first value (0) which is False therefore it prints the first value without checking the second one. "
   ]
  },
  {
   "cell_type": "markdown",
   "id": "45a88f70",
   "metadata": {},
   "source": [
    "<p><strong>OR Truth Table:</strong></p>\n",
    "<ol>\n",
    "<li>False and False = False</li>\n",
    "<li>False and True = True</li>\n",
    "<li>True and False = True</li>\n",
    "<li> True and True = True </li>\n",
    "</ol>\n",
    "\n",
    "###### OR gives priority to True"
   ]
  },
  {
   "cell_type": "code",
   "execution_count": 39,
   "id": "6ceb29bc",
   "metadata": {},
   "outputs": [
    {
     "name": "stdout",
     "output_type": "stream",
     "text": [
      "10\n",
      "20\n",
      "20\n",
      "0\n"
     ]
    }
   ],
   "source": [
    "print(10 or 20)\n",
    "# The first value (10) which is True therefore it prints the first value without checking the second one.\n",
    "print(0 or 20)\n",
    "# The first value (0) is false therefore it checks the second value (20) which is true, so it prints the second value.\n",
    "print(20 or 0)\n",
    "# The first value (20) which is true therefore it prints the first value without checking the second one.\n",
    "print(0 or 0)\n",
    "# The first value (0) is false therefore it checks if the second value (0) is false,\n",
    "# however the second value is also false hence it prints the second value. "
   ]
  },
  {
   "cell_type": "markdown",
   "id": "752b26c3",
   "metadata": {},
   "source": [
    "#### NOT\n",
    "<p><strong>OR Truth Table:</strong></p>\n",
    "<ol>\n",
    "<li>not False = True</li>\n",
    "<li>not True = False</li>"
   ]
  },
  {
   "cell_type": "code",
   "execution_count": 40,
   "id": "b8311872",
   "metadata": {},
   "outputs": [
    {
     "name": "stdout",
     "output_type": "stream",
     "text": [
      "False\n",
      "True\n"
     ]
    }
   ],
   "source": [
    "print(not 10)\n",
    "# 10 is True, not of 10 will be Flase \n",
    "print(not 0)\n",
    "#0 is Flase not of Flase will be true"
   ]
  },
  {
   "cell_type": "markdown",
   "id": "16af4a14",
   "metadata": {},
   "source": [
    "### Question 8"
   ]
  },
  {
   "cell_type": "code",
   "execution_count": 10,
   "id": "8ecdf3ec",
   "metadata": {},
   "outputs": [],
   "source": [
    "# 10 =   01010\n",
    "# 20 =   10100\n",
    "#-------------\n",
    "#10&20 = 00000 = 0\n",
    "\n",
    "# 10 =   01010\n",
    "# 20 =   10100\n",
    "#-------------\n",
    "#10|20 = 11110 = 30\n",
    "\n",
    "# 10 =   01010\n",
    "# 20 =   10100\n",
    "#-------------\n",
    "#10^20 = 00000 = 0\n",
    "\n",
    "# 10 =   01010\n",
    "# ~10 = -(10+1) = -11\n",
    "\n",
    "# 10 << 2 = 10*(2**2) = 10*4 = 40\n",
    "\n",
    "# 10 >> 2 = 10//(2**2) = 10//4 = 2 "
   ]
  },
  {
   "cell_type": "code",
   "execution_count": 11,
   "id": "43104366",
   "metadata": {},
   "outputs": [
    {
     "name": "stdout",
     "output_type": "stream",
     "text": [
      "1) 0\n",
      "2) 30\n",
      "3) 30\n",
      "4) -11\n",
      "5) 40\n",
      "6) 2\n"
     ]
    }
   ],
   "source": [
    "print('1', 10 & 20, sep = ') ')\n",
    "print('2', 10 | 20, sep = ') ')\n",
    "print('3', 10 ^ 20, sep = ') ')\n",
    "print('4', ~10, sep = ') ')\n",
    "print('5', 10 << 2, sep = ') ')\n",
    "print('6', 10 >> 2, sep = ') ')"
   ]
  },
  {
   "cell_type": "markdown",
   "id": "ac62112d",
   "metadata": {},
   "source": [
    "### Question 9"
   ]
  },
  {
   "cell_type": "code",
   "execution_count": 12,
   "id": "ac0b9c05",
   "metadata": {},
   "outputs": [
    {
     "name": "stdout",
     "output_type": "stream",
     "text": [
      "True\n",
      "False\n"
     ]
    }
   ],
   "source": [
    "a = 10\n",
    "b = 10 \n",
    "print(a is b) #True or false? - True \n",
    "print(a is not b) #True or false - False "
   ]
  },
  {
   "cell_type": "code",
   "execution_count": 13,
   "id": "3dde4552",
   "metadata": {},
   "outputs": [
    {
     "name": "stdout",
     "output_type": "stream",
     "text": [
      "False\n",
      "True\n"
     ]
    }
   ],
   "source": [
    "a = 1000\n",
    "b = 1000\n",
    "print(a is b) #True or false - False \n",
    "print(a is not b) #True or false - True "
   ]
  },
  {
   "cell_type": "markdown",
   "id": "814192f3",
   "metadata": {},
   "source": [
    "### Question 10"
   ]
  },
  {
   "cell_type": "code",
   "execution_count": 14,
   "id": "2d158afe",
   "metadata": {},
   "outputs": [
    {
     "name": "stdout",
     "output_type": "stream",
     "text": [
      "20\n"
     ]
    }
   ],
   "source": [
    "# 10 +( 10 * 32 )// 2 ** 5 & 20 +(~( -10 ))<< 2\n",
    "# 10 + 320 // 2 ** 5 & 20 + 9 << 2\n",
    "# 2 ** 5 = 32\n",
    "# 10 + 320 // 32 & 20 + 9 << 2 \n",
    "# 320 // 32 = 10\n",
    "# 10 + 10 & 20 + 9 << 2\n",
    "# 20 & 29 << 2 \n",
    "# 29 << 2 = 116\n",
    "# 20 & 116 = 20\n",
    "\n",
    "print ( 10 +( 10 * 32 )// 2 ** 5 & 20 +(~( -10 ))<< 2 )\n"
   ]
  },
  {
   "cell_type": "markdown",
   "id": "bbdf9d95",
   "metadata": {},
   "source": [
    "### Question 11"
   ]
  },
  {
   "cell_type": "code",
   "execution_count": 15,
   "id": "92b87e2e",
   "metadata": {},
   "outputs": [
    {
     "name": "stdout",
     "output_type": "stream",
     "text": [
      "True\n",
      "True\n",
      "True\n",
      "True\n",
      "True\n",
      "True\n"
     ]
    }
   ],
   "source": [
    "print('2' in 'Python2.7.8')\n",
    "print(10 in [10,10.20,10+20j,'Python'])\n",
    "print(10 in (10,10.20,10+20j,'Python'))\n",
    "print(2 in {1,2,3})\n",
    "print(3 in {1:100,2:200,3:300})\n",
    "print(10 in range(20))"
   ]
  },
  {
   "cell_type": "markdown",
   "id": "b229dd03",
   "metadata": {},
   "source": [
    "### Question 12\n"
   ]
  },
  {
   "cell_type": "code",
   "execution_count": 16,
   "id": "44520040",
   "metadata": {},
   "outputs": [
    {
     "name": "stdout",
     "output_type": "stream",
     "text": [
      "Binary- 0b10011010010100\n",
      "Octal- 0o23224\n",
      "Hexadecimal- 0x2694\n"
     ]
    }
   ],
   "source": [
    "bin_num = 0b01001101\n",
    "oct_num = 0o7542\n",
    "hex_num = 0xF9\n",
    "num = 9876 \n",
    "print('Binary-', bin(num))\n",
    "print('Octal-',oct(num))\n",
    "print('Hexadecimal-',hex(num))"
   ]
  },
  {
   "cell_type": "markdown",
   "id": "b7e4de97",
   "metadata": {},
   "source": [
    "### Question 13"
   ]
  },
  {
   "cell_type": "code",
   "execution_count": 17,
   "id": "294ebace",
   "metadata": {},
   "outputs": [
    {
     "name": "stdout",
     "output_type": "stream",
     "text": [
      "80\n"
     ]
    }
   ],
   "source": [
    "a = 0b1010000\n",
    "print(a)"
   ]
  },
  {
   "cell_type": "code",
   "execution_count": 18,
   "id": "61d5ec4c",
   "metadata": {},
   "outputs": [
    {
     "name": "stdout",
     "output_type": "stream",
     "text": [
      "3870\n"
     ]
    }
   ],
   "source": [
    "b = 0o7436\n",
    "print(b)"
   ]
  },
  {
   "cell_type": "code",
   "execution_count": 19,
   "id": "c73876b9",
   "metadata": {},
   "outputs": [
    {
     "name": "stdout",
     "output_type": "stream",
     "text": [
      "64222\n"
     ]
    }
   ],
   "source": [
    "c = 0xfade\n",
    "print(c)"
   ]
  },
  {
   "cell_type": "code",
   "execution_count": 20,
   "id": "ea5cf253",
   "metadata": {},
   "outputs": [
    {
     "name": "stdout",
     "output_type": "stream",
     "text": [
      "0b1010000\n",
      "0o7436\n",
      "0xfade\n",
      "0b1010000\n",
      "0b1111101011011110\n",
      "0o175336\n",
      "0o7436\n",
      "0x50\n",
      "0xfade\n"
     ]
    }
   ],
   "source": [
    "print(bin(80))\n",
    "print(oct(3870))\n",
    "print(hex(64222))\n",
    "print(bin(0b1010000))\n",
    "print(bin(0xfade))\n",
    "print(oct(0xfade))\n",
    "print(oct(0o7436))\n",
    "print(hex(0b1010000))\n",
    "print(hex(0xfade))"
   ]
  },
  {
   "cell_type": "markdown",
   "id": "16bf478f",
   "metadata": {},
   "source": [
    "# Float Assignment "
   ]
  },
  {
   "cell_type": "markdown",
   "id": "b9eb48c0",
   "metadata": {},
   "source": [
    "## Question 1"
   ]
  },
  {
   "cell_type": "code",
   "execution_count": 21,
   "id": "174316b9",
   "metadata": {},
   "outputs": [
    {
     "name": "stdout",
     "output_type": "stream",
     "text": [
      "Enter a float number: 5.87\n",
      "1) 2626928752528\n",
      "2) <class 'float'>\n"
     ]
    }
   ],
   "source": [
    "a = float(input('Enter a float number: '))\n",
    "print('1',id(a),sep=') ')\n",
    "print('2',type(a),sep=') ')"
   ]
  },
  {
   "cell_type": "markdown",
   "id": "281b32cb",
   "metadata": {},
   "source": [
    "## Question 2"
   ]
  },
  {
   "cell_type": "code",
   "execution_count": 24,
   "id": "6dbdb0b2",
   "metadata": {},
   "outputs": [
    {
     "name": "stdout",
     "output_type": "stream",
     "text": [
      "Enter 1st float number: 98.5\n",
      "Enter 2nd float number: 4.5\n",
      "1) 103.0\n",
      "2) 94.0\n",
      "3) 443.25\n",
      "4) 21.88888888888889\n",
      "5) 4.0\n",
      "6) 21.0\n",
      "7) 934249850.9603492\n"
     ]
    }
   ],
   "source": [
    "a = float(input('Enter 1st float number: '))\n",
    "b = float(input('Enter 2nd float number: '))\n",
    "print('1',a + b, sep = ') ')\n",
    "print('2',a - b,sep = ') ')\n",
    "print('3',a * b,sep = ') ')\n",
    "print('4',a / b,sep = ') ')\n",
    "print('5',a % b,sep = ') ')\n",
    "print('6',a // b,sep = ') ')\n",
    "print('7',a ** b,sep = ') ')"
   ]
  },
  {
   "cell_type": "markdown",
   "id": "a8bc2d5b",
   "metadata": {},
   "source": [
    "## Question 3"
   ]
  },
  {
   "cell_type": "code",
   "execution_count": 26,
   "id": "5fe06d6e",
   "metadata": {},
   "outputs": [
    {
     "name": "stdout",
     "output_type": "stream",
     "text": [
      "Enter 1st float number: 78.5\n",
      "Enter 2nd float number: 6.4\n",
      "1) True\n",
      "2) False\n",
      "3) True\n",
      "4) False\n"
     ]
    }
   ],
   "source": [
    "a = float(input('Enter 1st float number: '))\n",
    "b = float(input('Enter 2nd float number: '))\n",
    "print('1', a > b,sep=') ')\n",
    "print('2', a < b,sep=') ')\n",
    "print('3', a >= b,sep=') ')\n",
    "print('4', a <= b, sep=') ')"
   ]
  },
  {
   "cell_type": "markdown",
   "id": "d171f753",
   "metadata": {},
   "source": [
    "### Question 4"
   ]
  },
  {
   "cell_type": "code",
   "execution_count": 27,
   "id": "27ab1eca",
   "metadata": {},
   "outputs": [
    {
     "name": "stdout",
     "output_type": "stream",
     "text": [
      "Enter 1st float number: 45.8\n",
      "Enter 2nd float number: 67.4\n",
      "1) False\n",
      "2) True\n"
     ]
    }
   ],
   "source": [
    "a = float(input('Enter 1st float number: '))\n",
    "b = float(input('Enter 2nd float number: '))\n",
    "print('1',a == b,sep = ') ')\n",
    "print('2',a != b,sep=') ' )"
   ]
  },
  {
   "cell_type": "markdown",
   "id": "c943e26f",
   "metadata": {},
   "source": [
    "### Question 5 \n",
    "\n",
    "<p><strong>AND Truth Table:</strong></p>\n",
    "<ol>\n",
    "<li>False and False = False</li>\n",
    "<li>False and True = False</li>\n",
    "<li>True and False = False</li>\n",
    "<li> True and True = True </li>\n",
    "</ol>\n",
    "\n",
    "###### AND gives priority to false"
   ]
  },
  {
   "cell_type": "code",
   "execution_count": 30,
   "id": "36338030",
   "metadata": {},
   "outputs": [
    {
     "name": "stdout",
     "output_type": "stream",
     "text": [
      "20.3\n",
      "0.0\n",
      "0.0\n",
      "0.0\n"
     ]
    }
   ],
   "source": [
    "print(10.20 and 20.30)\n",
    "# The first value (10.20) is true therefore it checks if the second value (20.30) is false,\n",
    "# however the second value is also true hence it prints the second value. \n",
    "print(0.0 and 20.30)\n",
    "# The first value (0.0) which is False therefore it prints the first value without checking the second one.\n",
    "print(20.30 and 0.0)\n",
    "# The first value (20.30) is true therefore it checks the second value (0.0) which is false, so it prints the second value. \n",
    "print(0.0 and 0.0)\n",
    "# The first value (0.0) which is False therefore it prints the first value without checking the second one. "
   ]
  },
  {
   "cell_type": "markdown",
   "id": "95db230d",
   "metadata": {},
   "source": [
    "<p><strong>OR Truth Table:</strong></p>\n",
    "<ol>\n",
    "<li>False and False = False</li>\n",
    "<li>False and True = True</li>\n",
    "<li>True and False = True</li>\n",
    "<li> True and True = True </li>\n",
    "</ol>\n",
    "\n",
    "###### OR gives priority to True\n"
   ]
  },
  {
   "cell_type": "code",
   "execution_count": 43,
   "id": "cedfa2fb",
   "metadata": {},
   "outputs": [
    {
     "name": "stdout",
     "output_type": "stream",
     "text": [
      "10.2\n",
      "20.3\n",
      "20.3\n",
      "0.0\n"
     ]
    }
   ],
   "source": [
    "print(10.20 or 20.30)\n",
    "# The first value (10.20) which is True therefore it prints the first value without checking the second one.\n",
    "print(0.0 or 20.30)\n",
    "# The first value (0.0) is false therefore it checks the second value (20.30) which is true, so it prints the second value.\n",
    "print(20.30 or 0.0)\n",
    "# The first value (20.30) which is true therefore it prints the first value without checking the second one.\n",
    "print(0.0 or 0.0)\n",
    "# The first value (0.0) is false therefore it checks if the second value (0.0) is false,\n",
    "# however the second value is also false hence it prints the second value. "
   ]
  },
  {
   "cell_type": "markdown",
   "id": "f3619f23",
   "metadata": {},
   "source": [
    "#### NOT\n",
    "<p><strong>NOT Truth Table:</strong></p>\n",
    "<ol>\n",
    "<li>not False = True</li>\n",
    "<li>not True = False</li>"
   ]
  },
  {
   "cell_type": "code",
   "execution_count": 45,
   "id": "fc4740ad",
   "metadata": {},
   "outputs": [
    {
     "name": "stdout",
     "output_type": "stream",
     "text": [
      "False\n",
      "True\n"
     ]
    }
   ],
   "source": [
    "print(not 10.20)\n",
    "# 10.20 is True, not of 10.20 will be Flase \n",
    "print(not 0.0)\n",
    "#0.0 is Flase not of Flase will be true"
   ]
  },
  {
   "cell_type": "code",
   "execution_count": 46,
   "id": "c3cdd2b2",
   "metadata": {},
   "outputs": [
    {
     "name": "stdout",
     "output_type": "stream",
     "text": [
      "False\n",
      "True\n"
     ]
    }
   ],
   "source": [
    "a = 10.20\n",
    "b = 10.20\n",
    "print(a is b) \n",
    "print(a is not b)"
   ]
  },
  {
   "cell_type": "markdown",
   "id": "352dab86",
   "metadata": {},
   "source": [
    "### Question 6 "
   ]
  },
  {
   "cell_type": "markdown",
   "id": "858f6404",
   "metadata": {},
   "source": [
    "Integer caching happens only for integer values and not for float. 10.20 is a float value hence it is declared twice in the memory. \n",
    "When you assign a = 10.5 and a = c, a new object is not created. c will point to the object that was previosly created (a=10.5). But declaring twice (i.e a=10.5, b=10.5) the object is created twice hence a and b will be pointing to their respective object. "
   ]
  },
  {
   "cell_type": "markdown",
   "id": "1aa08c18",
   "metadata": {},
   "source": [
    "### Question 7"
   ]
  },
  {
   "cell_type": "code",
   "execution_count": 48,
   "id": "59c4546f",
   "metadata": {},
   "outputs": [
    {
     "name": "stdout",
     "output_type": "stream",
     "text": [
      "True\n",
      "True\n",
      "True\n",
      "True\n",
      "True\n",
      "True\n"
     ]
    }
   ],
   "source": [
    "print('2.7' in 'Python2.7.8')\n",
    "print(10.20 in [10,10.20,10+20j,'Python'])\n",
    "print(10.20 in (10,10.20,10+20j,'Python'))\n",
    "print(20.30 in {1,20.30,30+40j})\n",
    "print(2.3 in {1:100, 2.3:200, 30+40j:300}) \n",
    "print(10 in range(20))"
   ]
  },
  {
   "cell_type": "markdown",
   "id": "e680bd8d",
   "metadata": {},
   "source": [
    "# Complex Assingment "
   ]
  },
  {
   "cell_type": "markdown",
   "id": "020730b3",
   "metadata": {},
   "source": [
    "### Question 1"
   ]
  },
  {
   "cell_type": "code",
   "execution_count": 28,
   "id": "597530a5",
   "metadata": {},
   "outputs": [
    {
     "name": "stdout",
     "output_type": "stream",
     "text": [
      "Enter a complex number: 10+5j\n",
      "1) 2626929610832\n",
      "2) <class 'complex'>\n"
     ]
    }
   ],
   "source": [
    "a = complex(input('Enter a complex number: '))\n",
    "print ('1',id(a),sep=') ')\n",
    "print('2',type(a),sep=') ')"
   ]
  },
  {
   "cell_type": "markdown",
   "id": "abdc39bc",
   "metadata": {},
   "source": [
    "### Question 2"
   ]
  },
  {
   "cell_type": "code",
   "execution_count": 31,
   "id": "31175317",
   "metadata": {},
   "outputs": [
    {
     "name": "stdout",
     "output_type": "stream",
     "text": [
      "Enter 1st complex number: 5+4j\n",
      "Enter 2nd complex number: 3+1j\n",
      "1) (8+5j)\n",
      "2) (2+3j)\n",
      "3) (11+17j)\n",
      "4) (1.9+0.7000000000000001j)\n",
      "5) (-98.78770452063961-90.0963210095099j)\n"
     ]
    }
   ],
   "source": [
    "a = complex(input('Enter 1st complex number: '))\n",
    "b = complex(input('Enter 2nd complex number: '))\n",
    "print('1',a + b,sep = ') ')\n",
    "print('2',a - b,sep = ') ')\n",
    "print('3',a * b,sep = ') ')\n",
    "print('4',a / b,sep = ') ')\n",
    "print('5',a ** b,sep = ') ')"
   ]
  },
  {
   "cell_type": "markdown",
   "id": "6da84b12",
   "metadata": {},
   "source": [
    "### Question 3 "
   ]
  },
  {
   "cell_type": "markdown",
   "id": "62a57ac2",
   "metadata": {},
   "source": [
    "Object reusability is only available for Integers and String, as these are the commonly used variable in programming.<br>\n",
    "It is not possible to compare complex numbers as it has imaginary parts. "
   ]
  },
  {
   "cell_type": "markdown",
   "id": "610c7ac7",
   "metadata": {},
   "source": [
    "### Question 4 "
   ]
  },
  {
   "cell_type": "code",
   "execution_count": 32,
   "id": "87634192",
   "metadata": {},
   "outputs": [
    {
     "name": "stdout",
     "output_type": "stream",
     "text": [
      "Enter 1st complex number: 5+5j\n",
      "Enter 2nd complex number: 4+j\n",
      "1) False\n",
      "2) True\n"
     ]
    }
   ],
   "source": [
    "a = complex(input('Enter 1st complex number: '))\n",
    "b = complex(input('Enter 2nd complex number: '))\n",
    "print('1', a == b, sep = ') ')\n",
    "print('2', a != b, sep = ') ')"
   ]
  },
  {
   "cell_type": "markdown",
   "id": "507fe8ab",
   "metadata": {},
   "source": [
    "### Question 5\n",
    "<p><strong>AND Truth Table:</strong></p>\n",
    "<ol>\n",
    "<li>False and False = False</li>\n",
    "<li>False and True = False</li>\n",
    "<li>True and False = False</li>\n",
    "<li> True and True = True </li>\n",
    "</ol>\n",
    "\n",
    "###### AND gives priority to false"
   ]
  },
  {
   "cell_type": "code",
   "execution_count": 5,
   "id": "3515cb28",
   "metadata": {},
   "outputs": [
    {
     "name": "stdout",
     "output_type": "stream",
     "text": [
      "(20+30j)\n",
      "0j\n",
      "0j\n",
      "0j\n"
     ]
    }
   ],
   "source": [
    "print(10+20j and 20+30j)\n",
    "# The first value (10+20j) is true therefore it checks if the second value (20+30j) is false,\n",
    "# however the second value is also true hence it prints the second value.\n",
    "print(0+0j and 20+30j)\n",
    "# The first value (0+0j) which is False therefore it prints the first value without checking the second one.\n",
    "print(20+30j and 0+0j)\n",
    "# The first value (20+30j) is true therefore it checks the second value (0+0j) which is false, so it prints the second value.\n",
    "print(0+0j and 0+0j)\n",
    "# The first value (0+0j) which is False therefore it prints the first value without checking the second one."
   ]
  },
  {
   "cell_type": "markdown",
   "id": "d7289140",
   "metadata": {},
   "source": [
    "<p><strong>OR Truth Table:</strong></p>\n",
    "<ol>\n",
    "<li>False and False = False</li>\n",
    "<li>False and True = True</li>\n",
    "<li>True and False = True</li>\n",
    "<li> True and True = True </li>\n",
    "</ol>\n",
    "\n",
    "###### OR gives priority to True"
   ]
  },
  {
   "cell_type": "code",
   "execution_count": 6,
   "id": "3173f3c1",
   "metadata": {},
   "outputs": [
    {
     "name": "stdout",
     "output_type": "stream",
     "text": [
      "(10+20j)\n",
      "(20+30j)\n",
      "(20+30j)\n",
      "0j\n"
     ]
    }
   ],
   "source": [
    "print(10+20j or 20+30j) \n",
    "# The first value (10+20j) which is True therefore it prints the first value without checking the second one.\n",
    "print(0+0j or 20+30j) \n",
    "# The first value (0+0j) is false therefore it checks the second value (20+30j) which is true, so it prints the second value.\n",
    "print(20+30j or 0+0j) \n",
    "# The first value (20+30j) which is true therefore it prints the first value without checking the second one.\n",
    "print(0+0j or 0+0j)\n",
    "# The first value (0+0j) is false therefore it checks if the second value (0+0j) is false,\n",
    "# however the second value is also false hence it prints the second value. \n"
   ]
  },
  {
   "cell_type": "markdown",
   "id": "9f76034e",
   "metadata": {},
   "source": [
    "#### NOT\n",
    "<p><strong>NOT Truth Table:</strong></p>\n",
    "<ol>\n",
    "<li>not False = True</li>\n",
    "<li>not True = False</li>"
   ]
  },
  {
   "cell_type": "code",
   "execution_count": 7,
   "id": "fb60aa4b",
   "metadata": {},
   "outputs": [
    {
     "name": "stdout",
     "output_type": "stream",
     "text": [
      "False\n",
      "True\n"
     ]
    }
   ],
   "source": [
    "print(not 10+20j)\n",
    "# 10+20j is True, not of 10+20j will be Flase \n",
    "print(not 0+0j)\n",
    "#0+0j is Flase not of Flase will be true"
   ]
  },
  {
   "cell_type": "markdown",
   "id": "77702de8",
   "metadata": {},
   "source": [
    "### Question 6"
   ]
  },
  {
   "cell_type": "code",
   "execution_count": 8,
   "id": "2d1a2b09",
   "metadata": {},
   "outputs": [
    {
     "name": "stdout",
     "output_type": "stream",
     "text": [
      "False\n",
      "True\n"
     ]
    }
   ],
   "source": [
    "a = 10+20j\n",
    "b = 10+20j\n",
    "print(a is b) \n",
    "print(a is not b)"
   ]
  },
  {
   "cell_type": "markdown",
   "id": "d78bdaff",
   "metadata": {},
   "source": [
    "### Question 7"
   ]
  },
  {
   "cell_type": "code",
   "execution_count": 9,
   "id": "02f280f4",
   "metadata": {},
   "outputs": [
    {
     "name": "stdout",
     "output_type": "stream",
     "text": [
      "True\n",
      "True\n",
      "True\n",
      "True\n",
      "True\n",
      "True\n"
     ]
    }
   ],
   "source": [
    "print('2.7' in 'Python2.7.8')\n",
    "print(10+20j in [10,10.20,10+20j,'Python'])\n",
    "print(10+20j in (10,10.20,10+20j,'Python'))\n",
    "print(30+40j in {1,20.30,30+40j})\n",
    "print(30+40j in {1:100, 2.3:200, 30+40j:300}) \n",
    "print(10 in range(20))"
   ]
  },
  {
   "cell_type": "markdown",
   "id": "59e2cd1a",
   "metadata": {},
   "source": [
    "# Boolean Assingment "
   ]
  },
  {
   "cell_type": "markdown",
   "id": "c4af693e",
   "metadata": {},
   "source": [
    "### Question 1"
   ]
  },
  {
   "cell_type": "code",
   "execution_count": 10,
   "id": "614d1967",
   "metadata": {},
   "outputs": [
    {
     "name": "stdout",
     "output_type": "stream",
     "text": [
      "1) 140727128282960\n",
      "2) <class 'bool'>\n"
     ]
    }
   ],
   "source": [
    "a = bool(98)\n",
    "print ('1',id(a),sep=') ')\n",
    "print('2',type(a),sep=') ')"
   ]
  },
  {
   "cell_type": "markdown",
   "id": "f60f5b63",
   "metadata": {},
   "source": [
    "### Question 2"
   ]
  },
  {
   "cell_type": "code",
   "execution_count": 12,
   "id": "aa9fbaa4",
   "metadata": {},
   "outputs": [
    {
     "name": "stdout",
     "output_type": "stream",
     "text": [
      "140727128282960\n",
      "140727128282960\n"
     ]
    }
   ],
   "source": [
    "a = bool(200)\n",
    "b = bool(20) \n",
    "print(id(a))\n",
    "print(id(b))"
   ]
  },
  {
   "cell_type": "markdown",
   "id": "47a87a82",
   "metadata": {},
   "source": [
    "Due to object reusability, True and False are already preassigned during the startup. When these values are declared it points to this preassigned address. "
   ]
  },
  {
   "cell_type": "markdown",
   "id": "242e9c56",
   "metadata": {},
   "source": [
    "### Question 3 "
   ]
  },
  {
   "cell_type": "code",
   "execution_count": 15,
   "id": "febaaaed",
   "metadata": {},
   "outputs": [
    {
     "name": "stdout",
     "output_type": "stream",
     "text": [
      "1) 1\n",
      "2) -1\n",
      "3) 0\n",
      "4) 0.0\n",
      "5) 0\n",
      "6) 0\n",
      "7) 0\n"
     ]
    }
   ],
   "source": [
    "a = bool(0)\n",
    "b = bool(20)\n",
    "print('1', a + b, sep = ') ')\n",
    "print('2', a - b, sep = ') ')\n",
    "print('3', a * b, sep = ') ')\n",
    "print('4', a / b, sep = ') ')\n",
    "print('5', a % b, sep = ') ')\n",
    "print('6', a // b, sep = ') ')\n",
    "print('7', a ** b, sep = ') ')"
   ]
  },
  {
   "cell_type": "markdown",
   "id": "935f8f0a",
   "metadata": {},
   "source": [
    "### Question 4 "
   ]
  },
  {
   "cell_type": "code",
   "execution_count": 1,
   "id": "d989ee1d",
   "metadata": {},
   "outputs": [
    {
     "name": "stdout",
     "output_type": "stream",
     "text": [
      "1) True\n",
      "2) False\n",
      "3) True\n",
      "4) False\n"
     ]
    }
   ],
   "source": [
    "a = bool(50)\n",
    "b = bool(0)\n",
    "print('1', a > b,sep=') ')\n",
    "print('2', a < b,sep=') ')\n",
    "print('3', a >= b,sep=') ')\n",
    "print('4', a <= b, sep=') ')\n"
   ]
  },
  {
   "cell_type": "markdown",
   "id": "e4074c83",
   "metadata": {},
   "source": [
    "### Question 5"
   ]
  },
  {
   "cell_type": "code",
   "execution_count": 2,
   "id": "b7bd18af",
   "metadata": {},
   "outputs": [
    {
     "name": "stdout",
     "output_type": "stream",
     "text": [
      "1) False\n",
      "2) True\n"
     ]
    }
   ],
   "source": [
    "a = bool(50)\n",
    "b = bool(0)\n",
    "print('1', a == b, sep = ') ')\n",
    "print('2', a != b, sep = ') ')"
   ]
  },
  {
   "cell_type": "markdown",
   "id": "6acd3a4d",
   "metadata": {},
   "source": [
    "### Question 6\n",
    "<p><strong>AND Truth Table:</strong></p>\n",
    "<ol>\n",
    "<li>False and False = False</li>\n",
    "<li>False and True = False</li>\n",
    "<li>True and False = False</li>\n",
    "<li> True and True = True </li>\n",
    "</ol>\n",
    "\n",
    "###### AND gives priority to false"
   ]
  },
  {
   "cell_type": "code",
   "execution_count": 7,
   "id": "fbaf3e2f",
   "metadata": {},
   "outputs": [
    {
     "name": "stdout",
     "output_type": "stream",
     "text": [
      "True\n",
      "False\n",
      "False\n",
      "False\n"
     ]
    }
   ],
   "source": [
    "print(True and True) \n",
    "print(False and True)\n",
    "print(True and False)\n",
    "print(False and False)"
   ]
  },
  {
   "cell_type": "markdown",
   "id": "385b5c22",
   "metadata": {},
   "source": [
    "<p><strong>OR Truth Table:</strong></p>\n",
    "<ol>\n",
    "<li>False and False = False</li>\n",
    "<li>False and True = True</li>\n",
    "<li>True and False = True</li>\n",
    "<li> True and True = True </li>\n",
    "</ol>\n",
    "\n",
    "###### OR gives priority to True"
   ]
  },
  {
   "cell_type": "code",
   "execution_count": 8,
   "id": "cabfe642",
   "metadata": {},
   "outputs": [
    {
     "name": "stdout",
     "output_type": "stream",
     "text": [
      "True\n",
      "True\n",
      "True\n",
      "False\n"
     ]
    }
   ],
   "source": [
    "print(True or True)\n",
    "print(False or True)\n",
    "print(True or False)\n",
    "print(False or False)"
   ]
  },
  {
   "cell_type": "markdown",
   "id": "4e3b5989",
   "metadata": {},
   "source": [
    "#### NOT\n",
    "<p><strong>NOT Truth Table:</strong></p>\n",
    "<ol>\n",
    "<li>not False = True</li>\n",
    "<li>not True = False</li>"
   ]
  },
  {
   "cell_type": "code",
   "execution_count": 9,
   "id": "9f778576",
   "metadata": {},
   "outputs": [
    {
     "name": "stdout",
     "output_type": "stream",
     "text": [
      "False\n",
      "True\n"
     ]
    }
   ],
   "source": [
    "print(not True)\n",
    "print(not False)"
   ]
  },
  {
   "cell_type": "code",
   "execution_count": null,
   "id": "e8524ff8",
   "metadata": {},
   "outputs": [],
   "source": [
    "# True(1) =   00001\n",
    "# True(1) =   00001\n",
    "#--------------------\n",
    "#True&True =  00001 = 1 (True)\n",
    "\n",
    "# True(1)  =   00001\n",
    "# False(0) =   00000\n",
    "#--------------------\n",
    "#True|False  = 00001 = 1 (True)\n",
    "\n",
    "# True(1)  =   00001\n",
    "# False(0) =   00000\n",
    "#-------------\n",
    "#True^False  = 00001 = 1 (True)\n",
    "\n",
    "# True(1) =   000001\n",
    "# ~1 = -(1+1) = -2\n",
    "\n",
    "# 1(True) << 2 = 1*(2**2) = 1*4 = 4\n",
    "\n",
    "# 1(True) >> 2 = 1//(2**2) = 1//4 = 0 "
   ]
  },
  {
   "cell_type": "code",
   "execution_count": 10,
   "id": "db38ceb9",
   "metadata": {},
   "outputs": [
    {
     "name": "stdout",
     "output_type": "stream",
     "text": [
      "1) True\n",
      "2) True\n",
      "3) True\n",
      "4) -2\n",
      "5) 4\n",
      "6) 0\n"
     ]
    }
   ],
   "source": [
    "print('1', True & True, sep = ') ')\n",
    "print('2', True | False, sep = ') ')\n",
    "print('3', True ^ False, sep = ') ')\n",
    "print('4', ~True, sep = ') ')\n",
    "print('5', True << 2, sep = ') ')\n",
    "print('6', True >> 2, sep = ') ')"
   ]
  },
  {
   "cell_type": "code",
   "execution_count": 14,
   "id": "b869c3a0",
   "metadata": {},
   "outputs": [
    {
     "name": "stdout",
     "output_type": "stream",
     "text": [
      "True\n",
      "False\n",
      "True\n",
      "False\n"
     ]
    }
   ],
   "source": [
    "a = True\n",
    "b = True\n",
    "print(a is b) \n",
    "print(a is not b) \n",
    "\n",
    "a = False\n",
    "b = False\n",
    "print(a is b) \n",
    "print(a is not b)"
   ]
  },
  {
   "cell_type": "code",
   "execution_count": 15,
   "id": "f6113901",
   "metadata": {},
   "outputs": [
    {
     "name": "stdout",
     "output_type": "stream",
     "text": [
      "True\n",
      "True\n",
      "True\n",
      "True\n",
      "True\n"
     ]
    }
   ],
   "source": [
    "print(True in [10,10.20,10+20j,'Python', True])\n",
    "print(False in (10,10.20,10+20j,'Python', False))\n",
    "print(True in {1,2,3, True})\n",
    "print(True in {True:100, False:200, True:300})\n",
    "print(False in {True:100, False:200, True:300})"
   ]
  }
 ],
 "metadata": {
  "kernelspec": {
   "display_name": "Python 3",
   "language": "python",
   "name": "python3"
  },
  "language_info": {
   "codemirror_mode": {
    "name": "ipython",
    "version": 3
   },
   "file_extension": ".py",
   "mimetype": "text/x-python",
   "name": "python",
   "nbconvert_exporter": "python",
   "pygments_lexer": "ipython3",
   "version": "3.8.8"
  }
 },
 "nbformat": 4,
 "nbformat_minor": 5
}
